{
 "cells": [
  {
   "cell_type": "markdown",
   "id": "187b93d1-c8c9-43ef-808a-cbeef5990fa9",
   "metadata": {},
   "source": [
    "# Unsupervised Learning\n",
    "A project by Dustin Pacholleck"
   ]
  },
  {
   "cell_type": "markdown",
   "id": "c2d0ef39-180b-42a7-8288-ea064a675f9a",
   "metadata": {},
   "source": [
    "## Introduction"
   ]
  },
  {
   "cell_type": "markdown",
   "id": "d3360012-8047-41a5-aa99-9b50811fec85",
   "metadata": {},
   "source": [
    "In the financial market it is vital to observe how companies are performing. I special focus is usually on the reports every publicly traded company has to issue every quarter. \n",
    "To get a quick feeling about the vast variety of data, clustering comes in handy. It allows the investor to see similary performing companies at a glance. He can quickly see which companies to investigate further for his investment decision. Not only for investors it becomes relevant to group companies into clusters. Also bank can leverage this method to preliminary investigate the health of a company based on its financial statement.\n",
    "\n",
    "Therefore, this projects tries to apply clustering on the S&P 500 companies based on their quarterly report in quarter 3 2021. The data was mined in a project by Pierre-Louis Danieau and can be found on https://www.kaggle.com/pierrelouisdanieau/financial-data-sp500-companies. "
   ]
  },
  {
   "cell_type": "markdown",
   "id": "3bd7b5a3-a5fd-4685-8938-693439ef11d1",
   "metadata": {},
   "source": [
    "## Set-Up"
   ]
  },
  {
   "cell_type": "code",
   "execution_count": 22,
   "id": "ca4b25da-ef19-456c-b6de-6536e654bc32",
   "metadata": {},
   "outputs": [
    {
     "name": "stdout",
     "output_type": "stream",
     "text": [
      "\n",
      "  There is a binary version available but the source version is later:\n",
      "      binary source needs_compilation\n",
      "psych  2.1.3  2.1.9             FALSE\n",
      "\n"
     ]
    },
    {
     "name": "stderr",
     "output_type": "stream",
     "text": [
      "installing the source package 'psych'\n",
      "\n"
     ]
    },
    {
     "name": "stdout",
     "output_type": "stream",
     "text": [
      "\n",
      "  There is a binary version available but the source version is later:\n",
      "           binary source needs_compilation\n",
      "data.table 1.14.0 1.14.2              TRUE\n",
      "\n",
      "  Binaries will be installed\n"
     ]
    },
    {
     "name": "stderr",
     "output_type": "stream",
     "text": [
      "Warning message:\n",
      "\"package 'data.table' is in use and will not be installed\""
     ]
    }
   ],
   "source": [
    "install.packages(\"psych\")\n",
    "install.packages(\"data.table\")"
   ]
  },
  {
   "cell_type": "code",
   "execution_count": 23,
   "id": "6eb08fc8-5b94-4495-9383-89241c197edc",
   "metadata": {},
   "outputs": [
    {
     "name": "stderr",
     "output_type": "stream",
     "text": [
      "also installing the dependencies 'xfun', 'tinytex', 'knitr', 'rmarkdown', 'jsonlite', 'reprex'\n",
      "\n"
     ]
    },
    {
     "name": "stdout",
     "output_type": "stream",
     "text": [
      "\n",
      "  There are binary versions available but the source versions are later:\n",
      "          binary source needs_compilation\n",
      "xfun        0.22   0.29              TRUE\n",
      "tinytex     0.31   0.37             FALSE\n",
      "knitr       1.33   1.37             FALSE\n",
      "rmarkdown    2.8   2.11             FALSE\n",
      "jsonlite   1.7.2  1.7.3              TRUE\n",
      "reprex     2.0.0  2.0.1             FALSE\n",
      "\n",
      "  Binaries will be installed\n",
      "package 'xfun' successfully unpacked and MD5 sums checked\n",
      "package 'jsonlite' successfully unpacked and MD5 sums checked\n"
     ]
    },
    {
     "name": "stderr",
     "output_type": "stream",
     "text": [
      "Warning message:\n",
      "\"cannot remove prior installation of package 'jsonlite'\"Warning message in file.copy(savedcopy, lib, recursive = TRUE):\n",
      "\"Problem C:\\Users\\duzzi\\anaconda3\\Lib\\R\\library\\00LOCK\\jsonlite\\libs\\x64\\jsonlite.dll nach C:\\Users\\duzzi\\anaconda3\\Lib\\R\\library\\jsonlite\\libs\\x64\\jsonlite.dll zu kopieren: Permission denied\"Warning message:\n",
      "\"restored 'jsonlite'\""
     ]
    },
    {
     "name": "stdout",
     "output_type": "stream",
     "text": [
      "package 'tidyverse' successfully unpacked and MD5 sums checked\n",
      "\n",
      "The downloaded binary packages are in\n",
      "\tC:\\Users\\duzzi\\AppData\\Local\\Temp\\RtmpCAFaau\\downloaded_packages\n"
     ]
    },
    {
     "name": "stderr",
     "output_type": "stream",
     "text": [
      "installing the source packages 'tinytex', 'knitr', 'rmarkdown', 'reprex'\n",
      "\n",
      "Warning message in install.packages(\"tidyverse\"):\n",
      "\"installation of package 'tinytex' had non-zero exit status\"Warning message in install.packages(\"tidyverse\"):\n",
      "\"installation of package 'knitr' had non-zero exit status\"Warning message in install.packages(\"tidyverse\"):\n",
      "\"installation of package 'rmarkdown' had non-zero exit status\"Warning message in install.packages(\"tidyverse\"):\n",
      "\"installation of package 'reprex' had non-zero exit status\"Warning message:\n",
      "\"package 'tidyverse' was built under R version 3.6.3\""
     ]
    },
    {
     "ename": "ERROR",
     "evalue": "Error: package or namespace load failed for 'tidyverse' in loadNamespace(j <- i[[1L]], c(lib.loc, .libPaths()), versionCheck = vI[[j]]):\n namespace 'jsonlite' 1.6 is already loaded, but >= 1.7.2 is required\n",
     "output_type": "error",
     "traceback": [
      "Error: package or namespace load failed for 'tidyverse' in loadNamespace(j <- i[[1L]], c(lib.loc, .libPaths()), versionCheck = vI[[j]]):\n namespace 'jsonlite' 1.6 is already loaded, but >= 1.7.2 is required\nTraceback:\n",
      "1. library(tidyverse)",
      "2. tryCatch({\n .     attr(package, \"LibPath\") <- which.lib.loc\n .     ns <- loadNamespace(package, lib.loc)\n .     env <- attachNamespace(ns, pos = pos, deps, exclude, include.only)\n . }, error = function(e) {\n .     P <- if (!is.null(cc <- conditionCall(e))) \n .         paste(\" in\", deparse(cc)[1L])\n .     else \"\"\n .     msg <- gettextf(\"package or namespace load failed for %s%s:\\n %s\", \n .         sQuote(package), P, conditionMessage(e))\n .     if (logical.return) \n .         message(paste(\"Error:\", msg), domain = NA)\n .     else stop(msg, call. = FALSE, domain = NA)\n . })",
      "3. tryCatchList(expr, classes, parentenv, handlers)",
      "4. tryCatchOne(expr, names, parentenv, handlers[[1L]])",
      "5. value[[3L]](cond)",
      "6. stop(msg, call. = FALSE, domain = NA)"
     ]
    }
   ],
   "source": [
    "install.packages(\"tidyverse\")\n",
    "library(tidyverse)"
   ]
  },
  {
   "cell_type": "code",
   "execution_count": 24,
   "id": "4db09bc5-187e-4128-9573-251c4f3c4313",
   "metadata": {},
   "outputs": [],
   "source": [
    "library(psych)\n",
    "library(data.table)"
   ]
  },
  {
   "cell_type": "markdown",
   "id": "8c10f43a-019e-4f0e-ac57-c2e3475cce6f",
   "metadata": {},
   "source": [
    "## Data Preperation"
   ]
  },
  {
   "cell_type": "code",
   "execution_count": 25,
   "id": "691e8354-c3c4-477c-ba61-143c53f5546a",
   "metadata": {},
   "outputs": [],
   "source": [
    "df <- read.csv(\"C:/Users/duzzi/Documents/University_Projects/Unsupervised-Learning/data/financial data sp500 companies.csv\")"
   ]
  },
  {
   "cell_type": "code",
   "execution_count": 27,
   "id": "52d4b095-a033-4703-8dad-961b9c7f86d2",
   "metadata": {},
   "outputs": [
    {
     "data": {
      "text/html": [
       "<table>\n",
       "<thead><tr><th scope=col>X</th><th scope=col>date</th><th scope=col>firm</th><th scope=col>Ticker</th><th scope=col>Research.Development</th><th scope=col>Income.Before.Tax</th><th scope=col>Net.Income</th><th scope=col>Selling.General.Administrative</th><th scope=col>Gross.Profit</th><th scope=col>Ebit</th><th scope=col>Operating.Income</th><th scope=col>Interest.Expense</th><th scope=col>Income.Tax.Expense</th><th scope=col>Total.Revenue</th><th scope=col>Total.Operating.Expenses</th><th scope=col>Cost.Of.Revenue</th><th scope=col>Total.Other.Income.Expense.Net</th><th scope=col>Net.Income.From.Continuing.Ops</th><th scope=col>Net.Income.Applicable.To.Common.Shares</th></tr></thead>\n",
       "<tbody>\n",
       "\t<tr><td>0         </td><td>2021-09-30</td><td>3M        </td><td>MMM       </td><td>4.82e+08  </td><td>1.761e+09 </td><td>1.434e+09 </td><td>1.739e+09 </td><td>4.089e+09 </td><td>1.868e+09 </td><td>1.868e+09 </td><td>-1.17e+08 </td><td>3.24e+08  </td><td>8.942e+09 </td><td>7.074e+09 </td><td>4.853e+09 </td><td>-1.07e+08 </td><td>1.437e+09 </td><td>1.434e+09 </td></tr>\n",
       "\t<tr><td>1         </td><td>2021-06-30</td><td>3M        </td><td>MMM       </td><td>5.14e+08  </td><td>1.940e+09 </td><td>1.524e+09 </td><td>1.666e+09 </td><td>4.231e+09 </td><td>2.051e+09 </td><td>2.051e+09 </td><td>-1.21e+08 </td><td>4.15e+08  </td><td>8.950e+09 </td><td>6.899e+09 </td><td>4.719e+09 </td><td>-1.11e+08 </td><td>1.525e+09 </td><td>1.524e+09 </td></tr>\n",
       "\t<tr><td>2         </td><td>2021-03-31</td><td>3M        </td><td>MMM       </td><td>5.20e+08  </td><td>1.946e+09 </td><td>1.624e+09 </td><td>1.720e+09 </td><td>4.327e+09 </td><td>2.087e+09 </td><td>2.087e+09 </td><td>-1.32e+08 </td><td>3.19e+08  </td><td>8.851e+09 </td><td>6.764e+09 </td><td>4.524e+09 </td><td>-1.41e+08 </td><td>1.627e+09 </td><td>1.624e+09 </td></tr>\n",
       "\t<tr><td>3         </td><td>2020-12-31</td><td>3M        </td><td>MMM       </td><td>4.49e+08  </td><td>1.706e+09 </td><td>1.389e+09 </td><td>1.814e+09 </td><td>4.246e+09 </td><td>1.983e+09 </td><td>1.983e+09 </td><td>-1.41e+08 </td><td>3.16e+08  </td><td>8.583e+09 </td><td>6.600e+09 </td><td>4.337e+09 </td><td>-2.77e+08 </td><td>1.390e+09 </td><td>1.389e+09 </td></tr>\n",
       "\t<tr><td>4         </td><td>2021-09-30</td><td>3M        </td><td>MMM       </td><td>4.82e+08  </td><td>1.761e+09 </td><td>1.434e+09 </td><td>1.739e+09 </td><td>4.089e+09 </td><td>1.868e+09 </td><td>1.868e+09 </td><td>-1.17e+08 </td><td>3.24e+08  </td><td>8.942e+09 </td><td>7.074e+09 </td><td>4.853e+09 </td><td>-1.07e+08 </td><td>1.437e+09 </td><td>1.434e+09 </td></tr>\n",
       "\t<tr><td>5         </td><td>2021-06-30</td><td>3M        </td><td>MMM       </td><td>5.14e+08  </td><td>1.940e+09 </td><td>1.524e+09 </td><td>1.666e+09 </td><td>4.231e+09 </td><td>2.051e+09 </td><td>2.051e+09 </td><td>-1.21e+08 </td><td>4.15e+08  </td><td>8.950e+09 </td><td>6.899e+09 </td><td>4.719e+09 </td><td>-1.11e+08 </td><td>1.525e+09 </td><td>1.524e+09 </td></tr>\n",
       "</tbody>\n",
       "</table>\n"
      ],
      "text/latex": [
       "\\begin{tabular}{r|lllllllllllllllllll}\n",
       " X & date & firm & Ticker & Research.Development & Income.Before.Tax & Net.Income & Selling.General.Administrative & Gross.Profit & Ebit & Operating.Income & Interest.Expense & Income.Tax.Expense & Total.Revenue & Total.Operating.Expenses & Cost.Of.Revenue & Total.Other.Income.Expense.Net & Net.Income.From.Continuing.Ops & Net.Income.Applicable.To.Common.Shares\\\\\n",
       "\\hline\n",
       "\t 0          & 2021-09-30 & 3M         & MMM        & 4.82e+08   & 1.761e+09  & 1.434e+09  & 1.739e+09  & 4.089e+09  & 1.868e+09  & 1.868e+09  & -1.17e+08  & 3.24e+08   & 8.942e+09  & 7.074e+09  & 4.853e+09  & -1.07e+08  & 1.437e+09  & 1.434e+09 \\\\\n",
       "\t 1          & 2021-06-30 & 3M         & MMM        & 5.14e+08   & 1.940e+09  & 1.524e+09  & 1.666e+09  & 4.231e+09  & 2.051e+09  & 2.051e+09  & -1.21e+08  & 4.15e+08   & 8.950e+09  & 6.899e+09  & 4.719e+09  & -1.11e+08  & 1.525e+09  & 1.524e+09 \\\\\n",
       "\t 2          & 2021-03-31 & 3M         & MMM        & 5.20e+08   & 1.946e+09  & 1.624e+09  & 1.720e+09  & 4.327e+09  & 2.087e+09  & 2.087e+09  & -1.32e+08  & 3.19e+08   & 8.851e+09  & 6.764e+09  & 4.524e+09  & -1.41e+08  & 1.627e+09  & 1.624e+09 \\\\\n",
       "\t 3          & 2020-12-31 & 3M         & MMM        & 4.49e+08   & 1.706e+09  & 1.389e+09  & 1.814e+09  & 4.246e+09  & 1.983e+09  & 1.983e+09  & -1.41e+08  & 3.16e+08   & 8.583e+09  & 6.600e+09  & 4.337e+09  & -2.77e+08  & 1.390e+09  & 1.389e+09 \\\\\n",
       "\t 4          & 2021-09-30 & 3M         & MMM        & 4.82e+08   & 1.761e+09  & 1.434e+09  & 1.739e+09  & 4.089e+09  & 1.868e+09  & 1.868e+09  & -1.17e+08  & 3.24e+08   & 8.942e+09  & 7.074e+09  & 4.853e+09  & -1.07e+08  & 1.437e+09  & 1.434e+09 \\\\\n",
       "\t 5          & 2021-06-30 & 3M         & MMM        & 5.14e+08   & 1.940e+09  & 1.524e+09  & 1.666e+09  & 4.231e+09  & 2.051e+09  & 2.051e+09  & -1.21e+08  & 4.15e+08   & 8.950e+09  & 6.899e+09  & 4.719e+09  & -1.11e+08  & 1.525e+09  & 1.524e+09 \\\\\n",
       "\\end{tabular}\n"
      ],
      "text/markdown": [
       "\n",
       "| X | date | firm | Ticker | Research.Development | Income.Before.Tax | Net.Income | Selling.General.Administrative | Gross.Profit | Ebit | Operating.Income | Interest.Expense | Income.Tax.Expense | Total.Revenue | Total.Operating.Expenses | Cost.Of.Revenue | Total.Other.Income.Expense.Net | Net.Income.From.Continuing.Ops | Net.Income.Applicable.To.Common.Shares |\n",
       "|---|---|---|---|---|---|---|---|---|---|---|---|---|---|---|---|---|---|---|\n",
       "| 0          | 2021-09-30 | 3M         | MMM        | 4.82e+08   | 1.761e+09  | 1.434e+09  | 1.739e+09  | 4.089e+09  | 1.868e+09  | 1.868e+09  | -1.17e+08  | 3.24e+08   | 8.942e+09  | 7.074e+09  | 4.853e+09  | -1.07e+08  | 1.437e+09  | 1.434e+09  |\n",
       "| 1          | 2021-06-30 | 3M         | MMM        | 5.14e+08   | 1.940e+09  | 1.524e+09  | 1.666e+09  | 4.231e+09  | 2.051e+09  | 2.051e+09  | -1.21e+08  | 4.15e+08   | 8.950e+09  | 6.899e+09  | 4.719e+09  | -1.11e+08  | 1.525e+09  | 1.524e+09  |\n",
       "| 2          | 2021-03-31 | 3M         | MMM        | 5.20e+08   | 1.946e+09  | 1.624e+09  | 1.720e+09  | 4.327e+09  | 2.087e+09  | 2.087e+09  | -1.32e+08  | 3.19e+08   | 8.851e+09  | 6.764e+09  | 4.524e+09  | -1.41e+08  | 1.627e+09  | 1.624e+09  |\n",
       "| 3          | 2020-12-31 | 3M         | MMM        | 4.49e+08   | 1.706e+09  | 1.389e+09  | 1.814e+09  | 4.246e+09  | 1.983e+09  | 1.983e+09  | -1.41e+08  | 3.16e+08   | 8.583e+09  | 6.600e+09  | 4.337e+09  | -2.77e+08  | 1.390e+09  | 1.389e+09  |\n",
       "| 4          | 2021-09-30 | 3M         | MMM        | 4.82e+08   | 1.761e+09  | 1.434e+09  | 1.739e+09  | 4.089e+09  | 1.868e+09  | 1.868e+09  | -1.17e+08  | 3.24e+08   | 8.942e+09  | 7.074e+09  | 4.853e+09  | -1.07e+08  | 1.437e+09  | 1.434e+09  |\n",
       "| 5          | 2021-06-30 | 3M         | MMM        | 5.14e+08   | 1.940e+09  | 1.524e+09  | 1.666e+09  | 4.231e+09  | 2.051e+09  | 2.051e+09  | -1.21e+08  | 4.15e+08   | 8.950e+09  | 6.899e+09  | 4.719e+09  | -1.11e+08  | 1.525e+09  | 1.524e+09  |\n",
       "\n"
      ],
      "text/plain": [
       "  X date       firm Ticker Research.Development Income.Before.Tax Net.Income\n",
       "1 0 2021-09-30 3M   MMM    4.82e+08             1.761e+09         1.434e+09 \n",
       "2 1 2021-06-30 3M   MMM    5.14e+08             1.940e+09         1.524e+09 \n",
       "3 2 2021-03-31 3M   MMM    5.20e+08             1.946e+09         1.624e+09 \n",
       "4 3 2020-12-31 3M   MMM    4.49e+08             1.706e+09         1.389e+09 \n",
       "5 4 2021-09-30 3M   MMM    4.82e+08             1.761e+09         1.434e+09 \n",
       "6 5 2021-06-30 3M   MMM    5.14e+08             1.940e+09         1.524e+09 \n",
       "  Selling.General.Administrative Gross.Profit Ebit      Operating.Income\n",
       "1 1.739e+09                      4.089e+09    1.868e+09 1.868e+09       \n",
       "2 1.666e+09                      4.231e+09    2.051e+09 2.051e+09       \n",
       "3 1.720e+09                      4.327e+09    2.087e+09 2.087e+09       \n",
       "4 1.814e+09                      4.246e+09    1.983e+09 1.983e+09       \n",
       "5 1.739e+09                      4.089e+09    1.868e+09 1.868e+09       \n",
       "6 1.666e+09                      4.231e+09    2.051e+09 2.051e+09       \n",
       "  Interest.Expense Income.Tax.Expense Total.Revenue Total.Operating.Expenses\n",
       "1 -1.17e+08        3.24e+08           8.942e+09     7.074e+09               \n",
       "2 -1.21e+08        4.15e+08           8.950e+09     6.899e+09               \n",
       "3 -1.32e+08        3.19e+08           8.851e+09     6.764e+09               \n",
       "4 -1.41e+08        3.16e+08           8.583e+09     6.600e+09               \n",
       "5 -1.17e+08        3.24e+08           8.942e+09     7.074e+09               \n",
       "6 -1.21e+08        4.15e+08           8.950e+09     6.899e+09               \n",
       "  Cost.Of.Revenue Total.Other.Income.Expense.Net Net.Income.From.Continuing.Ops\n",
       "1 4.853e+09       -1.07e+08                      1.437e+09                     \n",
       "2 4.719e+09       -1.11e+08                      1.525e+09                     \n",
       "3 4.524e+09       -1.41e+08                      1.627e+09                     \n",
       "4 4.337e+09       -2.77e+08                      1.390e+09                     \n",
       "5 4.853e+09       -1.07e+08                      1.437e+09                     \n",
       "6 4.719e+09       -1.11e+08                      1.525e+09                     \n",
       "  Net.Income.Applicable.To.Common.Shares\n",
       "1 1.434e+09                             \n",
       "2 1.524e+09                             \n",
       "3 1.624e+09                             \n",
       "4 1.389e+09                             \n",
       "5 1.434e+09                             \n",
       "6 1.524e+09                             "
      ]
     },
     "metadata": {},
     "output_type": "display_data"
    }
   ],
   "source": [
    "head(df)"
   ]
  },
  {
   "cell_type": "code",
   "execution_count": 29,
   "id": "17d6bcb6-0019-49c5-b9f0-b4f94ec75c10",
   "metadata": {},
   "outputs": [
    {
     "data": {
      "text/html": [
       "<table>\n",
       "<thead><tr><th></th><th scope=col>vars</th><th scope=col>n</th><th scope=col>mean</th><th scope=col>sd</th><th scope=col>median</th><th scope=col>trimmed</th><th scope=col>mad</th><th scope=col>min</th><th scope=col>max</th><th scope=col>range</th><th scope=col>skew</th><th scope=col>kurtosis</th><th scope=col>se</th></tr></thead>\n",
       "<tbody>\n",
       "\t<tr><th scope=row>X</th><td> 1           </td><td>2012         </td><td> 1.005500e+03</td><td>5.809587e+02 </td><td>      1005.5 </td><td> 1.005500e+03</td><td>7.457478e+02 </td><td> 0.0000e+00  </td><td>2.01100e+03  </td><td>        2011 </td><td> 0.000000e+00</td><td> -1.201789   </td><td>1.295183e+01 </td></tr>\n",
       "\t<tr><th scope=row>date*</th><td> 2           </td><td>2012         </td><td> 7.268091e+01</td><td>3.483693e+01 </td><td>        81.0 </td><td> 7.221242e+01</td><td>4.447800e+01 </td><td> 1.0000e+00  </td><td>1.41000e+02  </td><td>         140 </td><td> 8.364356e-02</td><td> -1.007849   </td><td>7.766510e-01 </td></tr>\n",
       "\t<tr><th scope=row>firm*</th><td> 3           </td><td>2012         </td><td> 2.510020e+02</td><td>1.452360e+02 </td><td>       251.0 </td><td> 2.510000e+02</td><td>1.868076e+02 </td><td> 1.0000e+00  </td><td>5.02000e+02  </td><td>         501 </td><td> 8.111970e-05</td><td> -1.201909   </td><td>3.237876e+00 </td></tr>\n",
       "\t<tr><th scope=row>Ticker*</th><td> 4           </td><td>2012         </td><td> 2.516103e+02</td><td>1.448276e+02 </td><td>       252.0 </td><td> 2.516379e+02</td><td>1.853250e+02 </td><td> 1.0000e+00  </td><td>5.02000e+02  </td><td>         501 </td><td>-2.172555e-03</td><td> -1.199221   </td><td>3.228772e+00 </td></tr>\n",
       "\t<tr><th scope=row>Research.Development</th><td> 5           </td><td> 634         </td><td> 6.344579e+08</td><td>1.502277e+09 </td><td> 166000000.0 </td><td> 2.759287e+08</td><td>1.958744e+08 </td><td>-1.0300e+07  </td><td>1.64660e+10  </td><td> 16476300000 </td><td> 5.023922e+00</td><td> 32.925824   </td><td>5.966306e+07 </td></tr>\n",
       "\t<tr><th scope=row>Income.Before.Tax</th><td> 6           </td><td>2011         </td><td> 8.740406e+08</td><td>2.486569e+09 </td><td> 345900000.0 </td><td> 5.136325e+08</td><td>3.811765e+08 </td><td>-2.6613e+10  </td><td>3.35790e+10  </td><td> 60192000000 </td><td> 4.545634e+00</td><td> 53.640806   </td><td>5.544911e+07 </td></tr>\n",
       "\t<tr><th scope=row>Net.Income</th><td> 7           </td><td>2012         </td><td> 7.166330e+08</td><td>2.109107e+09 </td><td> 283000000.0 </td><td> 4.162791e+08</td><td>3.068011e+08 </td><td>-2.0070e+10  </td><td>2.87550e+10  </td><td> 48825000000 </td><td> 4.766506e+00</td><td> 52.335555   </td><td>4.702021e+07 </td></tr>\n",
       "\t<tr><th scope=row>Selling.General.Administrative</th><td> 8           </td><td>1952         </td><td> 1.103981e+09</td><td>2.519176e+09 </td><td> 381466000.0 </td><td> 5.619678e+08</td><td>4.379111e+08 </td><td>-3.6130e+09  </td><td>3.03310e+10  </td><td> 33944000000 </td><td> 6.252102e+00</td><td> 53.376249   </td><td>5.701888e+07 </td></tr>\n",
       "\t<tr><th scope=row>Gross.Profit</th><td> 9           </td><td>2012         </td><td> 2.567361e+09</td><td>5.045961e+09 </td><td>1055623000.0 </td><td> 1.429321e+09</td><td>9.330106e+08 </td><td>-4.0620e+09  </td><td>4.89040e+10  </td><td> 52966000000 </td><td> 4.722847e+00</td><td> 26.982338   </td><td>1.124941e+08 </td></tr>\n",
       "\t<tr><th scope=row>Ebit</th><td>10           </td><td>2012         </td><td> 8.725539e+08</td><td>2.109224e+09 </td><td> 356059500.0 </td><td> 5.105455e+08</td><td>3.825708e+08 </td><td>-6.3890e+09  </td><td>3.35340e+10  </td><td> 39923000000 </td><td> 6.883945e+00</td><td> 69.348730   </td><td>4.702283e+07 </td></tr>\n",
       "\t<tr><th scope=row>Operating.Income</th><td>11           </td><td>2011         </td><td> 1.018962e+09</td><td>2.276677e+09 </td><td> 423115000.0 </td><td> 5.989470e+08</td><td>4.119879e+08 </td><td>-6.3890e+09  </td><td>3.35340e+10  </td><td> 39923000000 </td><td> 6.007624e+00</td><td> 52.793251   </td><td>5.076862e+07 </td></tr>\n",
       "\t<tr><th scope=row>Interest.Expense</th><td>12           </td><td>1830         </td><td>-1.137794e+08</td><td>1.724235e+08 </td><td> -55465000.0 </td><td>-7.763814e+07</td><td>6.267321e+07 </td><td>-1.9720e+09  </td><td>7.20000e+07  </td><td>  2044000000 </td><td>-4.334373e+00</td><td> 29.396335   </td><td>4.030612e+06 </td></tr>\n",
       "\t<tr><th scope=row>Income.Tax.Expense</th><td>13           </td><td>2012         </td><td> 1.571346e+08</td><td>4.432727e+08 </td><td>  63000000.0 </td><td> 9.483862e+07</td><td>8.732440e+07 </td><td>-6.0100e+09  </td><td>4.82400e+09  </td><td> 10834000000 </td><td> 2.371664e+00</td><td> 44.747216   </td><td>9.882275e+06 </td></tr>\n",
       "\t<tr><th scope=row>Total.Revenue</th><td>14           </td><td>2012         </td><td> 6.547388e+09</td><td>1.294811e+10 </td><td>2624661500.0 </td><td> 3.607623e+09</td><td>2.535332e+09 </td><td>-5.5260e+08  </td><td>1.52079e+11  </td><td>152631600000 </td><td> 5.329086e+00</td><td> 38.939622   </td><td>2.886639e+08 </td></tr>\n",
       "\t<tr><th scope=row>Total.Operating.Expenses</th><td>15           </td><td>2012         </td><td> 5.526601e+09</td><td>1.164778e+10 </td><td>2089500000.0 </td><td> 2.905684e+09</td><td>2.008182e+09 </td><td>-1.4690e+09  </td><td>1.45592e+11  </td><td>147061000000 </td><td> 5.746297e+00</td><td> 45.711061   </td><td>2.596745e+08 </td></tr>\n",
       "\t<tr><th scope=row>Cost.Of.Revenue</th><td>16           </td><td>2012         </td><td> 3.978480e+09</td><td>9.297250e+09 </td><td>1285000000.0 </td><td> 1.867211e+09</td><td>1.510662e+09 </td><td>-4.9580e+08  </td><td>1.15261e+11  </td><td>115756800000 </td><td> 5.596391e+00</td><td> 41.822832   </td><td>2.072719e+08 </td></tr>\n",
       "\t<tr><th scope=row>Total.Other.Income.Expense.Net</th><td>17           </td><td>2012         </td><td>-1.447861e+08</td><td>9.648189e+08 </td><td> -42821000.0 </td><td>-7.364210e+07</td><td>7.950443e+07 </td><td>-2.5437e+10  </td><td>4.84600e+09  </td><td> 30283000000 </td><td>-1.418772e+01</td><td>316.542352   </td><td>2.150958e+07 </td></tr>\n",
       "\t<tr><th scope=row>Net.Income.From.Continuing.Ops</th><td>18           </td><td>2011         </td><td> 7.167271e+08</td><td>2.090395e+09 </td><td> 291545000.0 </td><td> 4.217136e+08</td><td>3.112274e+08 </td><td>-2.0603e+10  </td><td>2.87550e+10  </td><td> 49358000000 </td><td> 4.802716e+00</td><td> 54.435509   </td><td>4.661464e+07 </td></tr>\n",
       "\t<tr><th scope=row>Net.Income.Applicable.To.Common.Shares</th><td>19           </td><td>2011         </td><td> 7.087978e+08</td><td>2.099201e+09 </td><td> 276000000.0 </td><td> 4.129055e+08</td><td>3.024771e+08 </td><td>-2.0070e+10  </td><td>2.87550e+10  </td><td> 48825000000 </td><td> 4.786373e+00</td><td> 53.159474   </td><td>4.681100e+07 </td></tr>\n",
       "</tbody>\n",
       "</table>\n"
      ],
      "text/latex": [
       "\\begin{tabular}{r|lllllllllllll}\n",
       "  & vars & n & mean & sd & median & trimmed & mad & min & max & range & skew & kurtosis & se\\\\\n",
       "\\hline\n",
       "\tX &  1            & 2012          &  1.005500e+03 & 5.809587e+02  &       1005.5  &  1.005500e+03 & 7.457478e+02  &  0.0000e+00   & 2.01100e+03   &         2011  &  0.000000e+00 &  -1.201789    & 1.295183e+01 \\\\\n",
       "\tdate* &  2            & 2012          &  7.268091e+01 & 3.483693e+01  &         81.0  &  7.221242e+01 & 4.447800e+01  &  1.0000e+00   & 1.41000e+02   &          140  &  8.364356e-02 &  -1.007849    & 7.766510e-01 \\\\\n",
       "\tfirm* &  3            & 2012          &  2.510020e+02 & 1.452360e+02  &        251.0  &  2.510000e+02 & 1.868076e+02  &  1.0000e+00   & 5.02000e+02   &          501  &  8.111970e-05 &  -1.201909    & 3.237876e+00 \\\\\n",
       "\tTicker* &  4            & 2012          &  2.516103e+02 & 1.448276e+02  &        252.0  &  2.516379e+02 & 1.853250e+02  &  1.0000e+00   & 5.02000e+02   &          501  & -2.172555e-03 &  -1.199221    & 3.228772e+00 \\\\\n",
       "\tResearch.Development &  5            &  634          &  6.344579e+08 & 1.502277e+09  &  166000000.0  &  2.759287e+08 & 1.958744e+08  & -1.0300e+07   & 1.64660e+10   &  16476300000  &  5.023922e+00 &  32.925824    & 5.966306e+07 \\\\\n",
       "\tIncome.Before.Tax &  6            & 2011          &  8.740406e+08 & 2.486569e+09  &  345900000.0  &  5.136325e+08 & 3.811765e+08  & -2.6613e+10   & 3.35790e+10   &  60192000000  &  4.545634e+00 &  53.640806    & 5.544911e+07 \\\\\n",
       "\tNet.Income &  7            & 2012          &  7.166330e+08 & 2.109107e+09  &  283000000.0  &  4.162791e+08 & 3.068011e+08  & -2.0070e+10   & 2.87550e+10   &  48825000000  &  4.766506e+00 &  52.335555    & 4.702021e+07 \\\\\n",
       "\tSelling.General.Administrative &  8            & 1952          &  1.103981e+09 & 2.519176e+09  &  381466000.0  &  5.619678e+08 & 4.379111e+08  & -3.6130e+09   & 3.03310e+10   &  33944000000  &  6.252102e+00 &  53.376249    & 5.701888e+07 \\\\\n",
       "\tGross.Profit &  9            & 2012          &  2.567361e+09 & 5.045961e+09  & 1055623000.0  &  1.429321e+09 & 9.330106e+08  & -4.0620e+09   & 4.89040e+10   &  52966000000  &  4.722847e+00 &  26.982338    & 1.124941e+08 \\\\\n",
       "\tEbit & 10            & 2012          &  8.725539e+08 & 2.109224e+09  &  356059500.0  &  5.105455e+08 & 3.825708e+08  & -6.3890e+09   & 3.35340e+10   &  39923000000  &  6.883945e+00 &  69.348730    & 4.702283e+07 \\\\\n",
       "\tOperating.Income & 11            & 2011          &  1.018962e+09 & 2.276677e+09  &  423115000.0  &  5.989470e+08 & 4.119879e+08  & -6.3890e+09   & 3.35340e+10   &  39923000000  &  6.007624e+00 &  52.793251    & 5.076862e+07 \\\\\n",
       "\tInterest.Expense & 12            & 1830          & -1.137794e+08 & 1.724235e+08  &  -55465000.0  & -7.763814e+07 & 6.267321e+07  & -1.9720e+09   & 7.20000e+07   &   2044000000  & -4.334373e+00 &  29.396335    & 4.030612e+06 \\\\\n",
       "\tIncome.Tax.Expense & 13            & 2012          &  1.571346e+08 & 4.432727e+08  &   63000000.0  &  9.483862e+07 & 8.732440e+07  & -6.0100e+09   & 4.82400e+09   &  10834000000  &  2.371664e+00 &  44.747216    & 9.882275e+06 \\\\\n",
       "\tTotal.Revenue & 14            & 2012          &  6.547388e+09 & 1.294811e+10  & 2624661500.0  &  3.607623e+09 & 2.535332e+09  & -5.5260e+08   & 1.52079e+11   & 152631600000  &  5.329086e+00 &  38.939622    & 2.886639e+08 \\\\\n",
       "\tTotal.Operating.Expenses & 15            & 2012          &  5.526601e+09 & 1.164778e+10  & 2089500000.0  &  2.905684e+09 & 2.008182e+09  & -1.4690e+09   & 1.45592e+11   & 147061000000  &  5.746297e+00 &  45.711061    & 2.596745e+08 \\\\\n",
       "\tCost.Of.Revenue & 16            & 2012          &  3.978480e+09 & 9.297250e+09  & 1285000000.0  &  1.867211e+09 & 1.510662e+09  & -4.9580e+08   & 1.15261e+11   & 115756800000  &  5.596391e+00 &  41.822832    & 2.072719e+08 \\\\\n",
       "\tTotal.Other.Income.Expense.Net & 17            & 2012          & -1.447861e+08 & 9.648189e+08  &  -42821000.0  & -7.364210e+07 & 7.950443e+07  & -2.5437e+10   & 4.84600e+09   &  30283000000  & -1.418772e+01 & 316.542352    & 2.150958e+07 \\\\\n",
       "\tNet.Income.From.Continuing.Ops & 18            & 2011          &  7.167271e+08 & 2.090395e+09  &  291545000.0  &  4.217136e+08 & 3.112274e+08  & -2.0603e+10   & 2.87550e+10   &  49358000000  &  4.802716e+00 &  54.435509    & 4.661464e+07 \\\\\n",
       "\tNet.Income.Applicable.To.Common.Shares & 19            & 2011          &  7.087978e+08 & 2.099201e+09  &  276000000.0  &  4.129055e+08 & 3.024771e+08  & -2.0070e+10   & 2.87550e+10   &  48825000000  &  4.786373e+00 &  53.159474    & 4.681100e+07 \\\\\n",
       "\\end{tabular}\n"
      ],
      "text/markdown": [
       "\n",
       "| <!--/--> | vars | n | mean | sd | median | trimmed | mad | min | max | range | skew | kurtosis | se |\n",
       "|---|---|---|---|---|---|---|---|---|---|---|---|---|---|\n",
       "| X |  1            | 2012          |  1.005500e+03 | 5.809587e+02  |       1005.5  |  1.005500e+03 | 7.457478e+02  |  0.0000e+00   | 2.01100e+03   |         2011  |  0.000000e+00 |  -1.201789    | 1.295183e+01  |\n",
       "| date* |  2            | 2012          |  7.268091e+01 | 3.483693e+01  |         81.0  |  7.221242e+01 | 4.447800e+01  |  1.0000e+00   | 1.41000e+02   |          140  |  8.364356e-02 |  -1.007849    | 7.766510e-01  |\n",
       "| firm* |  3            | 2012          |  2.510020e+02 | 1.452360e+02  |        251.0  |  2.510000e+02 | 1.868076e+02  |  1.0000e+00   | 5.02000e+02   |          501  |  8.111970e-05 |  -1.201909    | 3.237876e+00  |\n",
       "| Ticker* |  4            | 2012          |  2.516103e+02 | 1.448276e+02  |        252.0  |  2.516379e+02 | 1.853250e+02  |  1.0000e+00   | 5.02000e+02   |          501  | -2.172555e-03 |  -1.199221    | 3.228772e+00  |\n",
       "| Research.Development |  5            |  634          |  6.344579e+08 | 1.502277e+09  |  166000000.0  |  2.759287e+08 | 1.958744e+08  | -1.0300e+07   | 1.64660e+10   |  16476300000  |  5.023922e+00 |  32.925824    | 5.966306e+07  |\n",
       "| Income.Before.Tax |  6            | 2011          |  8.740406e+08 | 2.486569e+09  |  345900000.0  |  5.136325e+08 | 3.811765e+08  | -2.6613e+10   | 3.35790e+10   |  60192000000  |  4.545634e+00 |  53.640806    | 5.544911e+07  |\n",
       "| Net.Income |  7            | 2012          |  7.166330e+08 | 2.109107e+09  |  283000000.0  |  4.162791e+08 | 3.068011e+08  | -2.0070e+10   | 2.87550e+10   |  48825000000  |  4.766506e+00 |  52.335555    | 4.702021e+07  |\n",
       "| Selling.General.Administrative |  8            | 1952          |  1.103981e+09 | 2.519176e+09  |  381466000.0  |  5.619678e+08 | 4.379111e+08  | -3.6130e+09   | 3.03310e+10   |  33944000000  |  6.252102e+00 |  53.376249    | 5.701888e+07  |\n",
       "| Gross.Profit |  9            | 2012          |  2.567361e+09 | 5.045961e+09  | 1055623000.0  |  1.429321e+09 | 9.330106e+08  | -4.0620e+09   | 4.89040e+10   |  52966000000  |  4.722847e+00 |  26.982338    | 1.124941e+08  |\n",
       "| Ebit | 10            | 2012          |  8.725539e+08 | 2.109224e+09  |  356059500.0  |  5.105455e+08 | 3.825708e+08  | -6.3890e+09   | 3.35340e+10   |  39923000000  |  6.883945e+00 |  69.348730    | 4.702283e+07  |\n",
       "| Operating.Income | 11            | 2011          |  1.018962e+09 | 2.276677e+09  |  423115000.0  |  5.989470e+08 | 4.119879e+08  | -6.3890e+09   | 3.35340e+10   |  39923000000  |  6.007624e+00 |  52.793251    | 5.076862e+07  |\n",
       "| Interest.Expense | 12            | 1830          | -1.137794e+08 | 1.724235e+08  |  -55465000.0  | -7.763814e+07 | 6.267321e+07  | -1.9720e+09   | 7.20000e+07   |   2044000000  | -4.334373e+00 |  29.396335    | 4.030612e+06  |\n",
       "| Income.Tax.Expense | 13            | 2012          |  1.571346e+08 | 4.432727e+08  |   63000000.0  |  9.483862e+07 | 8.732440e+07  | -6.0100e+09   | 4.82400e+09   |  10834000000  |  2.371664e+00 |  44.747216    | 9.882275e+06  |\n",
       "| Total.Revenue | 14            | 2012          |  6.547388e+09 | 1.294811e+10  | 2624661500.0  |  3.607623e+09 | 2.535332e+09  | -5.5260e+08   | 1.52079e+11   | 152631600000  |  5.329086e+00 |  38.939622    | 2.886639e+08  |\n",
       "| Total.Operating.Expenses | 15            | 2012          |  5.526601e+09 | 1.164778e+10  | 2089500000.0  |  2.905684e+09 | 2.008182e+09  | -1.4690e+09   | 1.45592e+11   | 147061000000  |  5.746297e+00 |  45.711061    | 2.596745e+08  |\n",
       "| Cost.Of.Revenue | 16            | 2012          |  3.978480e+09 | 9.297250e+09  | 1285000000.0  |  1.867211e+09 | 1.510662e+09  | -4.9580e+08   | 1.15261e+11   | 115756800000  |  5.596391e+00 |  41.822832    | 2.072719e+08  |\n",
       "| Total.Other.Income.Expense.Net | 17            | 2012          | -1.447861e+08 | 9.648189e+08  |  -42821000.0  | -7.364210e+07 | 7.950443e+07  | -2.5437e+10   | 4.84600e+09   |  30283000000  | -1.418772e+01 | 316.542352    | 2.150958e+07  |\n",
       "| Net.Income.From.Continuing.Ops | 18            | 2011          |  7.167271e+08 | 2.090395e+09  |  291545000.0  |  4.217136e+08 | 3.112274e+08  | -2.0603e+10   | 2.87550e+10   |  49358000000  |  4.802716e+00 |  54.435509    | 4.661464e+07  |\n",
       "| Net.Income.Applicable.To.Common.Shares | 19            | 2011          |  7.087978e+08 | 2.099201e+09  |  276000000.0  |  4.129055e+08 | 3.024771e+08  | -2.0070e+10   | 2.87550e+10   |  48825000000  |  4.786373e+00 |  53.159474    | 4.681100e+07  |\n",
       "\n"
      ],
      "text/plain": [
       "                                       vars n    mean          sd          \n",
       "X                                       1   2012  1.005500e+03 5.809587e+02\n",
       "date*                                   2   2012  7.268091e+01 3.483693e+01\n",
       "firm*                                   3   2012  2.510020e+02 1.452360e+02\n",
       "Ticker*                                 4   2012  2.516103e+02 1.448276e+02\n",
       "Research.Development                    5    634  6.344579e+08 1.502277e+09\n",
       "Income.Before.Tax                       6   2011  8.740406e+08 2.486569e+09\n",
       "Net.Income                              7   2012  7.166330e+08 2.109107e+09\n",
       "Selling.General.Administrative          8   1952  1.103981e+09 2.519176e+09\n",
       "Gross.Profit                            9   2012  2.567361e+09 5.045961e+09\n",
       "Ebit                                   10   2012  8.725539e+08 2.109224e+09\n",
       "Operating.Income                       11   2011  1.018962e+09 2.276677e+09\n",
       "Interest.Expense                       12   1830 -1.137794e+08 1.724235e+08\n",
       "Income.Tax.Expense                     13   2012  1.571346e+08 4.432727e+08\n",
       "Total.Revenue                          14   2012  6.547388e+09 1.294811e+10\n",
       "Total.Operating.Expenses               15   2012  5.526601e+09 1.164778e+10\n",
       "Cost.Of.Revenue                        16   2012  3.978480e+09 9.297250e+09\n",
       "Total.Other.Income.Expense.Net         17   2012 -1.447861e+08 9.648189e+08\n",
       "Net.Income.From.Continuing.Ops         18   2011  7.167271e+08 2.090395e+09\n",
       "Net.Income.Applicable.To.Common.Shares 19   2011  7.087978e+08 2.099201e+09\n",
       "                                       median       trimmed       mad         \n",
       "X                                            1005.5  1.005500e+03 7.457478e+02\n",
       "date*                                          81.0  7.221242e+01 4.447800e+01\n",
       "firm*                                         251.0  2.510000e+02 1.868076e+02\n",
       "Ticker*                                       252.0  2.516379e+02 1.853250e+02\n",
       "Research.Development                    166000000.0  2.759287e+08 1.958744e+08\n",
       "Income.Before.Tax                       345900000.0  5.136325e+08 3.811765e+08\n",
       "Net.Income                              283000000.0  4.162791e+08 3.068011e+08\n",
       "Selling.General.Administrative          381466000.0  5.619678e+08 4.379111e+08\n",
       "Gross.Profit                           1055623000.0  1.429321e+09 9.330106e+08\n",
       "Ebit                                    356059500.0  5.105455e+08 3.825708e+08\n",
       "Operating.Income                        423115000.0  5.989470e+08 4.119879e+08\n",
       "Interest.Expense                        -55465000.0 -7.763814e+07 6.267321e+07\n",
       "Income.Tax.Expense                       63000000.0  9.483862e+07 8.732440e+07\n",
       "Total.Revenue                          2624661500.0  3.607623e+09 2.535332e+09\n",
       "Total.Operating.Expenses               2089500000.0  2.905684e+09 2.008182e+09\n",
       "Cost.Of.Revenue                        1285000000.0  1.867211e+09 1.510662e+09\n",
       "Total.Other.Income.Expense.Net          -42821000.0 -7.364210e+07 7.950443e+07\n",
       "Net.Income.From.Continuing.Ops          291545000.0  4.217136e+08 3.112274e+08\n",
       "Net.Income.Applicable.To.Common.Shares  276000000.0  4.129055e+08 3.024771e+08\n",
       "                                       min         max         range       \n",
       "X                                       0.0000e+00 2.01100e+03         2011\n",
       "date*                                   1.0000e+00 1.41000e+02          140\n",
       "firm*                                   1.0000e+00 5.02000e+02          501\n",
       "Ticker*                                 1.0000e+00 5.02000e+02          501\n",
       "Research.Development                   -1.0300e+07 1.64660e+10  16476300000\n",
       "Income.Before.Tax                      -2.6613e+10 3.35790e+10  60192000000\n",
       "Net.Income                             -2.0070e+10 2.87550e+10  48825000000\n",
       "Selling.General.Administrative         -3.6130e+09 3.03310e+10  33944000000\n",
       "Gross.Profit                           -4.0620e+09 4.89040e+10  52966000000\n",
       "Ebit                                   -6.3890e+09 3.35340e+10  39923000000\n",
       "Operating.Income                       -6.3890e+09 3.35340e+10  39923000000\n",
       "Interest.Expense                       -1.9720e+09 7.20000e+07   2044000000\n",
       "Income.Tax.Expense                     -6.0100e+09 4.82400e+09  10834000000\n",
       "Total.Revenue                          -5.5260e+08 1.52079e+11 152631600000\n",
       "Total.Operating.Expenses               -1.4690e+09 1.45592e+11 147061000000\n",
       "Cost.Of.Revenue                        -4.9580e+08 1.15261e+11 115756800000\n",
       "Total.Other.Income.Expense.Net         -2.5437e+10 4.84600e+09  30283000000\n",
       "Net.Income.From.Continuing.Ops         -2.0603e+10 2.87550e+10  49358000000\n",
       "Net.Income.Applicable.To.Common.Shares -2.0070e+10 2.87550e+10  48825000000\n",
       "                                       skew          kurtosis   se          \n",
       "X                                       0.000000e+00  -1.201789 1.295183e+01\n",
       "date*                                   8.364356e-02  -1.007849 7.766510e-01\n",
       "firm*                                   8.111970e-05  -1.201909 3.237876e+00\n",
       "Ticker*                                -2.172555e-03  -1.199221 3.228772e+00\n",
       "Research.Development                    5.023922e+00  32.925824 5.966306e+07\n",
       "Income.Before.Tax                       4.545634e+00  53.640806 5.544911e+07\n",
       "Net.Income                              4.766506e+00  52.335555 4.702021e+07\n",
       "Selling.General.Administrative          6.252102e+00  53.376249 5.701888e+07\n",
       "Gross.Profit                            4.722847e+00  26.982338 1.124941e+08\n",
       "Ebit                                    6.883945e+00  69.348730 4.702283e+07\n",
       "Operating.Income                        6.007624e+00  52.793251 5.076862e+07\n",
       "Interest.Expense                       -4.334373e+00  29.396335 4.030612e+06\n",
       "Income.Tax.Expense                      2.371664e+00  44.747216 9.882275e+06\n",
       "Total.Revenue                           5.329086e+00  38.939622 2.886639e+08\n",
       "Total.Operating.Expenses                5.746297e+00  45.711061 2.596745e+08\n",
       "Cost.Of.Revenue                         5.596391e+00  41.822832 2.072719e+08\n",
       "Total.Other.Income.Expense.Net         -1.418772e+01 316.542352 2.150958e+07\n",
       "Net.Income.From.Continuing.Ops          4.802716e+00  54.435509 4.661464e+07\n",
       "Net.Income.Applicable.To.Common.Shares  4.786373e+00  53.159474 4.681100e+07"
      ]
     },
     "metadata": {},
     "output_type": "display_data"
    }
   ],
   "source": [
    "describe(df)"
   ]
  },
  {
   "cell_type": "code",
   "execution_count": 51,
   "id": "7fb4dea7-b9fc-4ba0-8392-9e1111472c2f",
   "metadata": {},
   "outputs": [
    {
     "name": "stdout",
     "output_type": "stream",
     "text": [
      "'data.frame':\t2012 obs. of  19 variables:\n",
      " $ X                                     : int  0 1 2 3 4 5 6 7 8 9 ...\n",
      " $ date                                  : Date, format: \"2021-09-30\" \"2021-06-30\" ...\n",
      " $ firm                                  : chr  \"3M\" \"3M\" \"3M\" \"3M\" ...\n",
      " $ Ticker                                : chr  \"MMM\" \"MMM\" \"MMM\" \"MMM\" ...\n",
      " $ Research.Development                  : num  4.82e+08 5.14e+08 5.20e+08 4.49e+08 4.82e+08 5.14e+08 5.20e+08 4.49e+08 NA NA ...\n",
      " $ Income.Before.Tax                     : num  1.76e+09 1.94e+09 1.95e+09 1.71e+09 1.76e+09 ...\n",
      " $ Net.Income                            : num  1.43e+09 1.52e+09 1.62e+09 1.39e+09 1.43e+09 ...\n",
      " $ Selling.General.Administrative        : num  1.74e+09 1.67e+09 1.72e+09 1.81e+09 1.74e+09 ...\n",
      " $ Gross.Profit                          : num  4.09e+09 4.23e+09 4.33e+09 4.25e+09 4.09e+09 ...\n",
      " $ Ebit                                  : num  1.87e+09 2.05e+09 2.09e+09 1.98e+09 1.87e+09 ...\n",
      " $ Operating.Income                      : num  1.87e+09 2.05e+09 2.09e+09 1.98e+09 1.87e+09 ...\n",
      " $ Interest.Expense                      : num  -1.17e+08 -1.21e+08 -1.32e+08 -1.41e+08 -1.17e+08 -1.21e+08 -1.32e+08 -1.41e+08 -1.00e+06 -9.00e+05 ...\n",
      " $ Income.Tax.Expense                    : num  3.24e+08 4.15e+08 3.19e+08 3.16e+08 3.24e+08 4.15e+08 3.19e+08 3.16e+08 3.48e+07 3.31e+07 ...\n",
      " $ Total.Revenue                         : num  8.94e+09 8.95e+09 8.85e+09 8.58e+09 8.94e+09 ...\n",
      " $ Total.Operating.Expenses              : num  7.07e+09 6.90e+09 6.76e+09 6.60e+09 7.07e+09 ...\n",
      " $ Cost.Of.Revenue                       : num  4.85e+09 4.72e+09 4.52e+09 4.34e+09 4.85e+09 ...\n",
      " $ Total.Other.Income.Expense.Net        : num  -1.07e+08 -1.11e+08 -1.41e+08 -2.77e+08 -1.07e+08 -1.11e+08 -1.41e+08 -2.77e+08 4.00e+05 -3.00e+05 ...\n",
      " $ Net.Income.From.Continuing.Ops        : num  1.44e+09 1.52e+09 1.63e+09 1.39e+09 1.44e+09 ...\n",
      " $ Net.Income.Applicable.To.Common.Shares: num  1.43e+09 1.52e+09 1.62e+09 1.39e+09 1.43e+09 ...\n"
     ]
    }
   ],
   "source": [
    "# Check Structure\n",
    "str(df)"
   ]
  },
  {
   "cell_type": "code",
   "execution_count": 31,
   "id": "67695a2e-911f-4755-b4f2-e7c39494d757",
   "metadata": {},
   "outputs": [],
   "source": [
    "df$date <- as.Date(df$date)\n",
    "df$Ticker <- as.character(df$Ticker)\n",
    "df$firm <- as.character(df$firm)"
   ]
  },
  {
   "cell_type": "code",
   "execution_count": 32,
   "id": "e6b3ac01-b526-4778-b2d3-df28a98ba091",
   "metadata": {},
   "outputs": [],
   "source": [
    "dt <- as.data.table(df, TRUE)"
   ]
  },
  {
   "cell_type": "code",
   "execution_count": 33,
   "id": "b10c7619-026c-4e2a-82d9-01df8c53d823",
   "metadata": {},
   "outputs": [],
   "source": [
    "# Only most recent date\n",
    "dt_adjust <- dt[date== \"2021-09-30\"]"
   ]
  },
  {
   "cell_type": "code",
   "execution_count": 34,
   "id": "10b59c92-ced3-430b-b48e-e527555ab42d",
   "metadata": {},
   "outputs": [],
   "source": [
    "# remove rn and x \n",
    "dt_adjust <- dt_adjust[, !c(\"rn\",\"X\")]"
   ]
  },
  {
   "cell_type": "code",
   "execution_count": 35,
   "id": "6c55fa58-f97f-4bfb-a176-6bb7d61eb4a1",
   "metadata": {},
   "outputs": [],
   "source": [
    "#remove duplicates\n",
    "dt_adjust <- dt_adjust[!duplicated(dt_adjust)]"
   ]
  },
  {
   "cell_type": "markdown",
   "id": "2e7b8c01-d1a4-4269-97c6-4d9356f4ae9b",
   "metadata": {},
   "source": [
    "### Reinspect dataframe after first cleaning"
   ]
  },
  {
   "cell_type": "code",
   "execution_count": 36,
   "id": "7623d2b7-048a-4c8d-9b65-3276484ac6fb",
   "metadata": {},
   "outputs": [
    {
     "name": "stderr",
     "output_type": "stream",
     "text": [
      "Warning message in FUN(newX[, i], ...):\n",
      "\"kein nicht-fehlendes Argument für min; gebe Inf zurück\"Warning message in FUN(newX[, i], ...):\n",
      "\"kein nicht-fehlendes Argument für max; gebe -Inf zurück\""
     ]
    },
    {
     "data": {
      "text/html": [
       "<table>\n",
       "<thead><tr><th></th><th scope=col>vars</th><th scope=col>n</th><th scope=col>mean</th><th scope=col>sd</th><th scope=col>median</th><th scope=col>trimmed</th><th scope=col>mad</th><th scope=col>min</th><th scope=col>max</th><th scope=col>range</th><th scope=col>skew</th><th scope=col>kurtosis</th><th scope=col>se</th></tr></thead>\n",
       "<tbody>\n",
       "\t<tr><th scope=row>date</th><td> 1          </td><td>90          </td><td>         NaN</td><td>          NA</td><td>          NA</td><td>         NaN</td><td>          NA</td><td>        Inf </td><td>      -Inf  </td><td>       -Inf </td><td>       NA   </td><td>       NA   </td><td>          NA</td></tr>\n",
       "\t<tr><th scope=row>firm*</th><td> 2          </td><td>90          </td><td>        45.5</td><td>2.612470e+01</td><td>        45.5</td><td>        45.5</td><td>3.335850e+01</td><td>          1 </td><td>9.0000e+01  </td><td>         89 </td><td> 0.000000   </td><td>-1.240068   </td><td>2.753785e+00</td></tr>\n",
       "\t<tr><th scope=row>Ticker*</th><td> 3          </td><td>90          </td><td>        45.5</td><td>2.612470e+01</td><td>        45.5</td><td>        45.5</td><td>3.335850e+01</td><td>          1 </td><td>9.0000e+01  </td><td>         89 </td><td> 0.000000   </td><td>-1.240068   </td><td>2.753785e+00</td></tr>\n",
       "\t<tr><th scope=row>Research.Development</th><td> 4          </td><td>24          </td><td> 268885583.3</td><td>3.821233e+08</td><td>  80651000.0</td><td> 200403250.0</td><td>7.828276e+07</td><td>   13289000 </td><td>1.6550e+09  </td><td> 1641711000 </td><td> 2.084356   </td><td> 4.519439   </td><td>7.800060e+07</td></tr>\n",
       "\t<tr><th scope=row>Income.Before.Tax</th><td> 5          </td><td>90          </td><td> 782506400.0</td><td>1.361899e+09</td><td> 444500000.0</td><td> 574561750.0</td><td>4.216514e+08</td><td>-2246000000 </td><td>8.9500e+09  </td><td>11196000000 </td><td> 3.042392   </td><td>14.176457   </td><td>1.435567e+08</td></tr>\n",
       "\t<tr><th scope=row>Net.Income</th><td> 6          </td><td>90          </td><td> 641338166.7</td><td>1.122860e+09</td><td> 347150000.0</td><td> 466862444.4</td><td>3.458861e+08</td><td>-1564000000 </td><td>7.6910e+09  </td><td> 9255000000 </td><td> 3.329097   </td><td>16.662442   </td><td>1.183598e+08</td></tr>\n",
       "\t<tr><th scope=row>Selling.General.Administrative</th><td> 7          </td><td>85          </td><td> 944478764.7</td><td>1.850726e+09</td><td> 318800000.0</td><td> 535253333.3</td><td>3.659057e+08</td><td> -142000000 </td><td>1.2675e+10  </td><td>12817000000 </td><td> 3.992266   </td><td>19.131312   </td><td>2.007394e+08</td></tr>\n",
       "\t<tr><th scope=row>Gross.Profit</th><td> 8          </td><td>90          </td><td>2092222877.8</td><td>3.291859e+09</td><td> 970435500.0</td><td>1352529361.1</td><td>8.496254e+08</td><td> -349683000 </td><td>2.3390e+10  </td><td>23739683000 </td><td> 3.878007   </td><td>18.984572   </td><td>3.469924e+08</td></tr>\n",
       "\t<tr><th scope=row>Ebit</th><td> 9          </td><td>90          </td><td> 686783433.3</td><td>9.521512e+08</td><td> 415800000.0</td><td> 498285708.3</td><td>3.699087e+08</td><td>-1006062000 </td><td>4.9610e+09  </td><td> 5967062000 </td><td> 2.522526   </td><td> 7.520405   </td><td>1.003655e+08</td></tr>\n",
       "\t<tr><th scope=row>Operating.Income</th><td>10          </td><td>90          </td><td> 902904544.4</td><td>1.384216e+09</td><td> 471411500.0</td><td> 605878458.3</td><td>3.704802e+08</td><td>-1006062000 </td><td>8.9500e+09  </td><td> 9956062000 </td><td> 3.329471   </td><td>13.490809   </td><td>1.459091e+08</td></tr>\n",
       "\t<tr><th scope=row>Interest.Expense</th><td>11          </td><td>76          </td><td>-116217065.8</td><td>1.676771e+08</td><td> -60175000.0</td><td> -80516887.1</td><td>7.383348e+07</td><td>-1016000000 </td><td>1.5800e+05  </td><td> 1016158000 </td><td>-2.994078   </td><td>10.887015   </td><td>1.923388e+07</td></tr>\n",
       "\t<tr><th scope=row>Income.Tax.Expense</th><td>12          </td><td>90          </td><td> 132842577.8</td><td>2.519012e+08</td><td>  76352000.0</td><td> 100917458.3</td><td>9.331929e+07</td><td> -682000000 </td><td>1.2590e+09  </td><td> 1941000000 </td><td> 1.808357   </td><td> 7.358934   </td><td>2.655272e+07</td></tr>\n",
       "\t<tr><th scope=row>Total.Revenue</th><td>13          </td><td>90          </td><td>5538312844.4</td><td>7.261542e+09</td><td>2887500000.0</td><td>3901749416.7</td><td>2.874768e+09</td><td>  248142000 </td><td>3.5822e+10  </td><td>35573858000 </td><td> 2.205086   </td><td> 4.688167   </td><td>7.654337e+08</td></tr>\n",
       "\t<tr><th scope=row>Total.Operating.Expenses</th><td>14          </td><td>90          </td><td>4635408300.0</td><td>6.598889e+09</td><td>2117000000.0</td><td>3098212500.0</td><td>2.119739e+09</td><td>  173307000 </td><td>3.3625e+10  </td><td>33451693000 </td><td> 2.541133   </td><td> 6.682892   </td><td>6.955840e+08</td></tr>\n",
       "\t<tr><th scope=row>Cost.Of.Revenue</th><td>15          </td><td>90          </td><td>3446089966.7</td><td>5.684699e+09</td><td>1438700000.0</td><td>2037624111.1</td><td>1.731121e+09</td><td>          0 </td><td>2.7529e+10  </td><td>27529000000 </td><td> 2.731971   </td><td> 7.419951   </td><td>5.992199e+08</td></tr>\n",
       "\t<tr><th scope=row>Total.Other.Income.Expense.Net</th><td>16          </td><td>90          </td><td>-120398144.4</td><td>3.880065e+08</td><td> -34100000.0</td><td> -57336319.4</td><td>6.342933e+07</td><td>-2294000000 </td><td>1.0030e+09  </td><td> 3297000000 </td><td>-2.648197   </td><td>12.033247   </td><td>4.089948e+07</td></tr>\n",
       "\t<tr><th scope=row>Net.Income.From.Continuing.Ops</th><td>17          </td><td>90          </td><td> 649663822.2</td><td>1.129481e+09</td><td> 357550000.0</td><td> 473959125.0</td><td>3.403064e+08</td><td>-1564000000 </td><td>7.6910e+09  </td><td> 9255000000 </td><td> 3.274219   </td><td>16.170500   </td><td>1.190578e+08</td></tr>\n",
       "\t<tr><th scope=row>Net.Income.Applicable.To.Common.Shares</th><td>18          </td><td>90          </td><td> 630600066.7</td><td>1.085211e+09</td><td> 347150000.0</td><td> 463106486.1</td><td>3.500419e+08</td><td>-1564000000 </td><td>7.2600e+09  </td><td> 8824000000 </td><td> 3.134375   </td><td>15.035094   </td><td>1.143912e+08</td></tr>\n",
       "</tbody>\n",
       "</table>\n"
      ],
      "text/latex": [
       "\\begin{tabular}{r|lllllllllllll}\n",
       "  & vars & n & mean & sd & median & trimmed & mad & min & max & range & skew & kurtosis & se\\\\\n",
       "\\hline\n",
       "\tdate &  1           & 90           &          NaN &           NA &           NA &          NaN &           NA &         Inf  &       -Inf   &        -Inf  &        NA    &        NA    &           NA\\\\\n",
       "\tfirm* &  2           & 90           &         45.5 & 2.612470e+01 &         45.5 &         45.5 & 3.335850e+01 &           1  & 9.0000e+01   &          89  &  0.000000    & -1.240068    & 2.753785e+00\\\\\n",
       "\tTicker* &  3           & 90           &         45.5 & 2.612470e+01 &         45.5 &         45.5 & 3.335850e+01 &           1  & 9.0000e+01   &          89  &  0.000000    & -1.240068    & 2.753785e+00\\\\\n",
       "\tResearch.Development &  4           & 24           &  268885583.3 & 3.821233e+08 &   80651000.0 &  200403250.0 & 7.828276e+07 &    13289000  & 1.6550e+09   &  1641711000  &  2.084356    &  4.519439    & 7.800060e+07\\\\\n",
       "\tIncome.Before.Tax &  5           & 90           &  782506400.0 & 1.361899e+09 &  444500000.0 &  574561750.0 & 4.216514e+08 & -2246000000  & 8.9500e+09   & 11196000000  &  3.042392    & 14.176457    & 1.435567e+08\\\\\n",
       "\tNet.Income &  6           & 90           &  641338166.7 & 1.122860e+09 &  347150000.0 &  466862444.4 & 3.458861e+08 & -1564000000  & 7.6910e+09   &  9255000000  &  3.329097    & 16.662442    & 1.183598e+08\\\\\n",
       "\tSelling.General.Administrative &  7           & 85           &  944478764.7 & 1.850726e+09 &  318800000.0 &  535253333.3 & 3.659057e+08 &  -142000000  & 1.2675e+10   & 12817000000  &  3.992266    & 19.131312    & 2.007394e+08\\\\\n",
       "\tGross.Profit &  8           & 90           & 2092222877.8 & 3.291859e+09 &  970435500.0 & 1352529361.1 & 8.496254e+08 &  -349683000  & 2.3390e+10   & 23739683000  &  3.878007    & 18.984572    & 3.469924e+08\\\\\n",
       "\tEbit &  9           & 90           &  686783433.3 & 9.521512e+08 &  415800000.0 &  498285708.3 & 3.699087e+08 & -1006062000  & 4.9610e+09   &  5967062000  &  2.522526    &  7.520405    & 1.003655e+08\\\\\n",
       "\tOperating.Income & 10           & 90           &  902904544.4 & 1.384216e+09 &  471411500.0 &  605878458.3 & 3.704802e+08 & -1006062000  & 8.9500e+09   &  9956062000  &  3.329471    & 13.490809    & 1.459091e+08\\\\\n",
       "\tInterest.Expense & 11           & 76           & -116217065.8 & 1.676771e+08 &  -60175000.0 &  -80516887.1 & 7.383348e+07 & -1016000000  & 1.5800e+05   &  1016158000  & -2.994078    & 10.887015    & 1.923388e+07\\\\\n",
       "\tIncome.Tax.Expense & 12           & 90           &  132842577.8 & 2.519012e+08 &   76352000.0 &  100917458.3 & 9.331929e+07 &  -682000000  & 1.2590e+09   &  1941000000  &  1.808357    &  7.358934    & 2.655272e+07\\\\\n",
       "\tTotal.Revenue & 13           & 90           & 5538312844.4 & 7.261542e+09 & 2887500000.0 & 3901749416.7 & 2.874768e+09 &   248142000  & 3.5822e+10   & 35573858000  &  2.205086    &  4.688167    & 7.654337e+08\\\\\n",
       "\tTotal.Operating.Expenses & 14           & 90           & 4635408300.0 & 6.598889e+09 & 2117000000.0 & 3098212500.0 & 2.119739e+09 &   173307000  & 3.3625e+10   & 33451693000  &  2.541133    &  6.682892    & 6.955840e+08\\\\\n",
       "\tCost.Of.Revenue & 15           & 90           & 3446089966.7 & 5.684699e+09 & 1438700000.0 & 2037624111.1 & 1.731121e+09 &           0  & 2.7529e+10   & 27529000000  &  2.731971    &  7.419951    & 5.992199e+08\\\\\n",
       "\tTotal.Other.Income.Expense.Net & 16           & 90           & -120398144.4 & 3.880065e+08 &  -34100000.0 &  -57336319.4 & 6.342933e+07 & -2294000000  & 1.0030e+09   &  3297000000  & -2.648197    & 12.033247    & 4.089948e+07\\\\\n",
       "\tNet.Income.From.Continuing.Ops & 17           & 90           &  649663822.2 & 1.129481e+09 &  357550000.0 &  473959125.0 & 3.403064e+08 & -1564000000  & 7.6910e+09   &  9255000000  &  3.274219    & 16.170500    & 1.190578e+08\\\\\n",
       "\tNet.Income.Applicable.To.Common.Shares & 18           & 90           &  630600066.7 & 1.085211e+09 &  347150000.0 &  463106486.1 & 3.500419e+08 & -1564000000  & 7.2600e+09   &  8824000000  &  3.134375    & 15.035094    & 1.143912e+08\\\\\n",
       "\\end{tabular}\n"
      ],
      "text/markdown": [
       "\n",
       "| <!--/--> | vars | n | mean | sd | median | trimmed | mad | min | max | range | skew | kurtosis | se |\n",
       "|---|---|---|---|---|---|---|---|---|---|---|---|---|---|\n",
       "| date |  1           | 90           |          NaN |           NA |           NA |          NaN |           NA |         Inf  |       -Inf   |        -Inf  |        NA    |        NA    |           NA |\n",
       "| firm* |  2           | 90           |         45.5 | 2.612470e+01 |         45.5 |         45.5 | 3.335850e+01 |           1  | 9.0000e+01   |          89  |  0.000000    | -1.240068    | 2.753785e+00 |\n",
       "| Ticker* |  3           | 90           |         45.5 | 2.612470e+01 |         45.5 |         45.5 | 3.335850e+01 |           1  | 9.0000e+01   |          89  |  0.000000    | -1.240068    | 2.753785e+00 |\n",
       "| Research.Development |  4           | 24           |  268885583.3 | 3.821233e+08 |   80651000.0 |  200403250.0 | 7.828276e+07 |    13289000  | 1.6550e+09   |  1641711000  |  2.084356    |  4.519439    | 7.800060e+07 |\n",
       "| Income.Before.Tax |  5           | 90           |  782506400.0 | 1.361899e+09 |  444500000.0 |  574561750.0 | 4.216514e+08 | -2246000000  | 8.9500e+09   | 11196000000  |  3.042392    | 14.176457    | 1.435567e+08 |\n",
       "| Net.Income |  6           | 90           |  641338166.7 | 1.122860e+09 |  347150000.0 |  466862444.4 | 3.458861e+08 | -1564000000  | 7.6910e+09   |  9255000000  |  3.329097    | 16.662442    | 1.183598e+08 |\n",
       "| Selling.General.Administrative |  7           | 85           |  944478764.7 | 1.850726e+09 |  318800000.0 |  535253333.3 | 3.659057e+08 |  -142000000  | 1.2675e+10   | 12817000000  |  3.992266    | 19.131312    | 2.007394e+08 |\n",
       "| Gross.Profit |  8           | 90           | 2092222877.8 | 3.291859e+09 |  970435500.0 | 1352529361.1 | 8.496254e+08 |  -349683000  | 2.3390e+10   | 23739683000  |  3.878007    | 18.984572    | 3.469924e+08 |\n",
       "| Ebit |  9           | 90           |  686783433.3 | 9.521512e+08 |  415800000.0 |  498285708.3 | 3.699087e+08 | -1006062000  | 4.9610e+09   |  5967062000  |  2.522526    |  7.520405    | 1.003655e+08 |\n",
       "| Operating.Income | 10           | 90           |  902904544.4 | 1.384216e+09 |  471411500.0 |  605878458.3 | 3.704802e+08 | -1006062000  | 8.9500e+09   |  9956062000  |  3.329471    | 13.490809    | 1.459091e+08 |\n",
       "| Interest.Expense | 11           | 76           | -116217065.8 | 1.676771e+08 |  -60175000.0 |  -80516887.1 | 7.383348e+07 | -1016000000  | 1.5800e+05   |  1016158000  | -2.994078    | 10.887015    | 1.923388e+07 |\n",
       "| Income.Tax.Expense | 12           | 90           |  132842577.8 | 2.519012e+08 |   76352000.0 |  100917458.3 | 9.331929e+07 |  -682000000  | 1.2590e+09   |  1941000000  |  1.808357    |  7.358934    | 2.655272e+07 |\n",
       "| Total.Revenue | 13           | 90           | 5538312844.4 | 7.261542e+09 | 2887500000.0 | 3901749416.7 | 2.874768e+09 |   248142000  | 3.5822e+10   | 35573858000  |  2.205086    |  4.688167    | 7.654337e+08 |\n",
       "| Total.Operating.Expenses | 14           | 90           | 4635408300.0 | 6.598889e+09 | 2117000000.0 | 3098212500.0 | 2.119739e+09 |   173307000  | 3.3625e+10   | 33451693000  |  2.541133    |  6.682892    | 6.955840e+08 |\n",
       "| Cost.Of.Revenue | 15           | 90           | 3446089966.7 | 5.684699e+09 | 1438700000.0 | 2037624111.1 | 1.731121e+09 |           0  | 2.7529e+10   | 27529000000  |  2.731971    |  7.419951    | 5.992199e+08 |\n",
       "| Total.Other.Income.Expense.Net | 16           | 90           | -120398144.4 | 3.880065e+08 |  -34100000.0 |  -57336319.4 | 6.342933e+07 | -2294000000  | 1.0030e+09   |  3297000000  | -2.648197    | 12.033247    | 4.089948e+07 |\n",
       "| Net.Income.From.Continuing.Ops | 17           | 90           |  649663822.2 | 1.129481e+09 |  357550000.0 |  473959125.0 | 3.403064e+08 | -1564000000  | 7.6910e+09   |  9255000000  |  3.274219    | 16.170500    | 1.190578e+08 |\n",
       "| Net.Income.Applicable.To.Common.Shares | 18           | 90           |  630600066.7 | 1.085211e+09 |  347150000.0 |  463106486.1 | 3.500419e+08 | -1564000000  | 7.2600e+09   |  8824000000  |  3.134375    | 15.035094    | 1.143912e+08 |\n",
       "\n"
      ],
      "text/plain": [
       "                                       vars n  mean         sd          \n",
       "date                                    1   90          NaN           NA\n",
       "firm*                                   2   90         45.5 2.612470e+01\n",
       "Ticker*                                 3   90         45.5 2.612470e+01\n",
       "Research.Development                    4   24  268885583.3 3.821233e+08\n",
       "Income.Before.Tax                       5   90  782506400.0 1.361899e+09\n",
       "Net.Income                              6   90  641338166.7 1.122860e+09\n",
       "Selling.General.Administrative          7   85  944478764.7 1.850726e+09\n",
       "Gross.Profit                            8   90 2092222877.8 3.291859e+09\n",
       "Ebit                                    9   90  686783433.3 9.521512e+08\n",
       "Operating.Income                       10   90  902904544.4 1.384216e+09\n",
       "Interest.Expense                       11   76 -116217065.8 1.676771e+08\n",
       "Income.Tax.Expense                     12   90  132842577.8 2.519012e+08\n",
       "Total.Revenue                          13   90 5538312844.4 7.261542e+09\n",
       "Total.Operating.Expenses               14   90 4635408300.0 6.598889e+09\n",
       "Cost.Of.Revenue                        15   90 3446089966.7 5.684699e+09\n",
       "Total.Other.Income.Expense.Net         16   90 -120398144.4 3.880065e+08\n",
       "Net.Income.From.Continuing.Ops         17   90  649663822.2 1.129481e+09\n",
       "Net.Income.Applicable.To.Common.Shares 18   90  630600066.7 1.085211e+09\n",
       "                                       median       trimmed      mad         \n",
       "date                                             NA          NaN           NA\n",
       "firm*                                          45.5         45.5 3.335850e+01\n",
       "Ticker*                                        45.5         45.5 3.335850e+01\n",
       "Research.Development                     80651000.0  200403250.0 7.828276e+07\n",
       "Income.Before.Tax                       444500000.0  574561750.0 4.216514e+08\n",
       "Net.Income                              347150000.0  466862444.4 3.458861e+08\n",
       "Selling.General.Administrative          318800000.0  535253333.3 3.659057e+08\n",
       "Gross.Profit                            970435500.0 1352529361.1 8.496254e+08\n",
       "Ebit                                    415800000.0  498285708.3 3.699087e+08\n",
       "Operating.Income                        471411500.0  605878458.3 3.704802e+08\n",
       "Interest.Expense                        -60175000.0  -80516887.1 7.383348e+07\n",
       "Income.Tax.Expense                       76352000.0  100917458.3 9.331929e+07\n",
       "Total.Revenue                          2887500000.0 3901749416.7 2.874768e+09\n",
       "Total.Operating.Expenses               2117000000.0 3098212500.0 2.119739e+09\n",
       "Cost.Of.Revenue                        1438700000.0 2037624111.1 1.731121e+09\n",
       "Total.Other.Income.Expense.Net          -34100000.0  -57336319.4 6.342933e+07\n",
       "Net.Income.From.Continuing.Ops          357550000.0  473959125.0 3.403064e+08\n",
       "Net.Income.Applicable.To.Common.Shares  347150000.0  463106486.1 3.500419e+08\n",
       "                                       min         max        range      \n",
       "date                                           Inf       -Inf        -Inf\n",
       "firm*                                            1 9.0000e+01          89\n",
       "Ticker*                                          1 9.0000e+01          89\n",
       "Research.Development                      13289000 1.6550e+09  1641711000\n",
       "Income.Before.Tax                      -2246000000 8.9500e+09 11196000000\n",
       "Net.Income                             -1564000000 7.6910e+09  9255000000\n",
       "Selling.General.Administrative          -142000000 1.2675e+10 12817000000\n",
       "Gross.Profit                            -349683000 2.3390e+10 23739683000\n",
       "Ebit                                   -1006062000 4.9610e+09  5967062000\n",
       "Operating.Income                       -1006062000 8.9500e+09  9956062000\n",
       "Interest.Expense                       -1016000000 1.5800e+05  1016158000\n",
       "Income.Tax.Expense                      -682000000 1.2590e+09  1941000000\n",
       "Total.Revenue                            248142000 3.5822e+10 35573858000\n",
       "Total.Operating.Expenses                 173307000 3.3625e+10 33451693000\n",
       "Cost.Of.Revenue                                  0 2.7529e+10 27529000000\n",
       "Total.Other.Income.Expense.Net         -2294000000 1.0030e+09  3297000000\n",
       "Net.Income.From.Continuing.Ops         -1564000000 7.6910e+09  9255000000\n",
       "Net.Income.Applicable.To.Common.Shares -1564000000 7.2600e+09  8824000000\n",
       "                                       skew      kurtosis  se          \n",
       "date                                          NA        NA           NA\n",
       "firm*                                   0.000000 -1.240068 2.753785e+00\n",
       "Ticker*                                 0.000000 -1.240068 2.753785e+00\n",
       "Research.Development                    2.084356  4.519439 7.800060e+07\n",
       "Income.Before.Tax                       3.042392 14.176457 1.435567e+08\n",
       "Net.Income                              3.329097 16.662442 1.183598e+08\n",
       "Selling.General.Administrative          3.992266 19.131312 2.007394e+08\n",
       "Gross.Profit                            3.878007 18.984572 3.469924e+08\n",
       "Ebit                                    2.522526  7.520405 1.003655e+08\n",
       "Operating.Income                        3.329471 13.490809 1.459091e+08\n",
       "Interest.Expense                       -2.994078 10.887015 1.923388e+07\n",
       "Income.Tax.Expense                      1.808357  7.358934 2.655272e+07\n",
       "Total.Revenue                           2.205086  4.688167 7.654337e+08\n",
       "Total.Operating.Expenses                2.541133  6.682892 6.955840e+08\n",
       "Cost.Of.Revenue                         2.731971  7.419951 5.992199e+08\n",
       "Total.Other.Income.Expense.Net         -2.648197 12.033247 4.089948e+07\n",
       "Net.Income.From.Continuing.Ops          3.274219 16.170500 1.190578e+08\n",
       "Net.Income.Applicable.To.Common.Shares  3.134375 15.035094 1.143912e+08"
      ]
     },
     "metadata": {},
     "output_type": "display_data"
    }
   ],
   "source": [
    "describe(dt_adjust)"
   ]
  },
  {
   "cell_type": "code",
   "execution_count": 37,
   "id": "f6454432-599d-4118-870a-16f4a9d6de67",
   "metadata": {},
   "outputs": [],
   "source": [
    "#drop date, firm, ticker, R&D (high missing values)\n",
    "dt_adjust <- dt_adjust[,!1:4]\n",
    "dt_adjust <- na.omit(dt_adjust)"
   ]
  },
  {
   "cell_type": "markdown",
   "id": "a0e44b6b-807c-46f1-b991-6db9c8c17c56",
   "metadata": {},
   "source": [
    "## Analyse relationship of variables"
   ]
  },
  {
   "cell_type": "code",
   "execution_count": 57,
   "id": "d7530df7-c9ce-425c-9fe3-54d664f0b3be",
   "metadata": {},
   "outputs": [
    {
     "name": "stderr",
     "output_type": "stream",
     "text": [
      "also installing the dependencies 'xts', 'quadprog', 'zoo'\n",
      "\n"
     ]
    },
    {
     "name": "stdout",
     "output_type": "stream",
     "text": [
      "package 'xts' successfully unpacked and MD5 sums checked\n",
      "package 'quadprog' successfully unpacked and MD5 sums checked\n",
      "package 'zoo' successfully unpacked and MD5 sums checked\n",
      "package 'PerformanceAnalytics' successfully unpacked and MD5 sums checked\n",
      "\n",
      "The downloaded binary packages are in\n",
      "\tC:\\Users\\duzzi\\AppData\\Local\\Temp\\RtmpCAFaau\\downloaded_packages\n"
     ]
    },
    {
     "name": "stderr",
     "output_type": "stream",
     "text": [
      "Warning message:\n",
      "\"package 'PerformanceAnalytics' was built under R version 3.6.3\"Loading required package: xts\n",
      "Warning message:\n",
      "\"package 'xts' was built under R version 3.6.3\"Loading required package: zoo\n",
      "Warning message:\n",
      "\"package 'zoo' was built under R version 3.6.3\"\n",
      "Attaching package: 'zoo'\n",
      "\n",
      "The following objects are masked from 'package:base':\n",
      "\n",
      "    as.Date, as.Date.numeric\n",
      "\n",
      "\n",
      "Attaching package: 'xts'\n",
      "\n",
      "The following objects are masked from 'package:data.table':\n",
      "\n",
      "    first, last\n",
      "\n",
      "\n",
      "Attaching package: 'PerformanceAnalytics'\n",
      "\n",
      "The following object is masked from 'package:graphics':\n",
      "\n",
      "    legend\n",
      "\n"
     ]
    }
   ],
   "source": [
    "install.packages(\"PerformanceAnalytics\")\n",
    "library(\"PerformanceAnalytics\")"
   ]
  },
  {
   "cell_type": "code",
   "execution_count": 58,
   "id": "0a330426-7731-406c-83d7-7530cdb80704",
   "metadata": {},
   "outputs": [
    {
     "data": {
      "image/png": "[encoded data removed]",
      "text/plain": [
       "Plot with title \"\""
      ]
     },
     "metadata": {},
     "output_type": "display_data"
    }
   ],
   "source": [
    "chart.Correlation(dt_adjust, histogram=TRUE, pch=19)"
   ]
  },
  {
   "cell_type": "markdown",
   "id": "29bb91cd-eff6-44f5-b0ff-8540cb0bcb21",
   "metadata": {},
   "source": [
    "From the graph above we see that we deal with highly correlated data. Therefore, we should either drop variables or we can use dimension reduction."
   ]
  },
  {
   "cell_type": "markdown",
   "id": "c0f61dca-ae83-4736-866e-cf96b4743302",
   "metadata": {},
   "source": [
    "## Dimension Reduction"
   ]
  },
  {
   "cell_type": "markdown",
   "id": "5725c82b-1868-4a68-894f-b5d1880f95e3",
   "metadata": {},
   "source": [
    "Intro to Dimension Reduction"
   ]
  },
  {
   "cell_type": "code",
   "execution_count": null,
   "id": "a72e343d-6a67-4f88-8b01-45c0204211e1",
   "metadata": {},
   "outputs": [],
   "source": []
  },
  {
   "cell_type": "code",
   "execution_count": 38,
   "id": "50bdeb21-4443-440f-be42-a3e26246f9fd",
   "metadata": {},
   "outputs": [],
   "source": [
    "df_adj_z <- as.data.frame(lapply(dt_adjust, scale))"
   ]
  },
  {
   "cell_type": "code",
   "execution_count": 70,
   "id": "b74e4fe2-ddc3-42be-8da5-335bfb976127",
   "metadata": {},
   "outputs": [],
   "source": [
    "pca <- prcomp(df_adj_z, center=FALSE, scale=FALSE)"
   ]
  },
  {
   "cell_type": "code",
   "execution_count": 71,
   "id": "66d4c9dd-1fc3-43ab-86bb-79b2175cb7bd",
   "metadata": {},
   "outputs": [
    {
     "data": {
      "text/html": [
       "<table>\n",
       "<thead><tr><th></th><th scope=col>PC1</th><th scope=col>PC2</th><th scope=col>PC3</th><th scope=col>PC4</th><th scope=col>PC5</th><th scope=col>PC6</th><th scope=col>PC7</th><th scope=col>PC8</th><th scope=col>PC9</th><th scope=col>PC10</th><th scope=col>PC11</th><th scope=col>PC12</th><th scope=col>PC13</th><th scope=col>PC14</th></tr></thead>\n",
       "<tbody>\n",
       "\t<tr><th scope=row>Income.Before.Tax</th><td>-0.313723602 </td><td> 0.2120264   </td><td>-0.04057889  </td><td> 0.063090009 </td><td>-0.07975123  </td><td>-0.007465774 </td><td>-0.06979151  </td><td>-0.302109736 </td><td> 0.0080370334</td><td> 4.032476e-01</td><td> 9.016463e-03</td><td>-7.080666e-01</td><td>-2.903532e-01</td><td> 4.518277e-03</td></tr>\n",
       "\t<tr><th scope=row>Net.Income</th><td>-0.314109913 </td><td> 0.2007916   </td><td>-0.02863539  </td><td> 0.007272681 </td><td>-0.17670294  </td><td> 0.229932105 </td><td>-0.05163781  </td><td> 0.543749976 </td><td> 0.6911740995</td><td>-7.090512e-11</td><td> 9.133319e-16</td><td>-5.551115e-16</td><td>-2.317591e-15</td><td> 4.965646e-17</td></tr>\n",
       "\t<tr><th scope=row>Selling.General.Administrative</th><td>-0.267801186 </td><td>-0.2010564   </td><td>-0.11765092  </td><td>-0.436620115 </td><td> 0.64430283  </td><td> 0.245691370 </td><td>-0.45579427  </td><td>-0.009438939 </td><td>-0.0072168279</td><td> 2.561149e-12</td><td>-2.513181e-16</td><td>-5.551115e-17</td><td>-2.081668e-17</td><td> 9.410875e-17</td></tr>\n",
       "\t<tr><th scope=row>Gross.Profit</th><td>-0.319079826 </td><td>-0.0848021   </td><td> 0.12416207  </td><td>-0.169813517 </td><td> 0.26869891  </td><td> 0.157769002 </td><td> 0.82140559  </td><td>-0.056096604 </td><td> 0.0082666297</td><td>-8.556509e-03</td><td>-8.232005e-02</td><td> 9.567831e-02</td><td>-2.356679e-01</td><td> 1.370639e-02</td></tr>\n",
       "\t<tr><th scope=row>Ebit</th><td>-0.314051155 </td><td> 0.1031201   </td><td> 0.22636163  </td><td>-0.099864539 </td><td>-0.15451989  </td><td>-0.119551466 </td><td>-0.10208179  </td><td>-0.222383894 </td><td> 0.0053395729</td><td>-4.773020e-01</td><td>-5.161320e-02</td><td>-9.577491e-03</td><td> 1.074133e-02</td><td>-7.076472e-01</td></tr>\n",
       "\t<tr><th scope=row>Operating.Income</th><td>-0.314051155 </td><td> 0.1031201   </td><td> 0.22636163  </td><td>-0.099864539 </td><td>-0.15451989  </td><td>-0.119551466 </td><td>-0.10208179  </td><td>-0.222383894 </td><td> 0.0053395729</td><td>-4.773020e-01</td><td>-2.365073e-02</td><td>-2.698818e-02</td><td> 7.604561e-02</td><td> 7.046737e-01</td></tr>\n",
       "\t<tr><th scope=row>Interest.Expense</th><td> 0.132690500 </td><td> 0.2158609   </td><td>-0.50412290  </td><td>-0.732101806 </td><td>-0.29539099  </td><td>-0.201171243 </td><td> 0.13263384  </td><td>-0.019139518 </td><td> 0.0007816539</td><td> 5.333296e-12</td><td> 7.212655e-17</td><td> 1.075529e-16</td><td> 6.331741e-17</td><td> 9.456953e-17</td></tr>\n",
       "\t<tr><th scope=row>Income.Tax.Expense</th><td>-0.283220782 </td><td> 0.2305427   </td><td>-0.14122288  </td><td> 0.179830068 </td><td> 0.36289920  </td><td>-0.779524156 </td><td> 0.01772395  </td><td> 0.193016193 </td><td>-0.0018513880</td><td> 1.155841e-01</td><td>-1.827620e-03</td><td> 1.435238e-01</td><td> 5.885407e-02</td><td>-9.158468e-04</td></tr>\n",
       "\t<tr><th scope=row>Total.Revenue</th><td>-0.242077984 </td><td>-0.4060354   </td><td>-0.17356118  </td><td> 0.045665816 </td><td>-0.13891416  </td><td>-0.059140785 </td><td> 0.09439262  </td><td>-0.013163405 </td><td> 0.0018387935</td><td>-2.158276e-02</td><td> 8.237208e-01</td><td>-5.981502e-02</td><td> 1.710582e-01</td><td>-2.495575e-02</td></tr>\n",
       "\t<tr><th scope=row>Total.Operating.Expenses</th><td>-0.212132004 </td><td>-0.4487501   </td><td>-0.21871687  </td><td> 0.063494268 </td><td>-0.12552149  </td><td>-0.045505355 </td><td> 0.11584824  </td><td> 0.018759512 </td><td> 0.0011754311</td><td> 4.738505e-02</td><td>-5.100652e-01</td><td>-2.478061e-01</td><td> 5.881568e-01</td><td>-2.015190e-02</td></tr>\n",
       "\t<tr><th scope=row>Cost.Of.Revenue</th><td>-0.182560093 </td><td>-0.4700944   </td><td>-0.25931406  </td><td> 0.118132931 </td><td>-0.26916209  </td><td>-0.130375101 </td><td>-0.18243614  </td><td> 0.004171977 </td><td>-0.0007394358</td><td>-2.351453e-02</td><td>-2.262275e-01</td><td> 2.629379e-01</td><td>-6.476497e-01</td><td> 3.766715e-02</td></tr>\n",
       "\t<tr><th scope=row>Total.Other.Income.Expense.Net</th><td>-0.008854316 </td><td> 0.2783161   </td><td>-0.66741015  </td><td> 0.408603600 </td><td> 0.18412908  </td><td> 0.279483489 </td><td> 0.07842991  </td><td>-0.208272240 </td><td> 0.0069793765</td><td>-3.853268e-01</td><td>-8.079852e-10</td><td>-1.100552e-08</td><td> 8.695027e-09</td><td> 2.511888e-10</td></tr>\n",
       "\t<tr><th scope=row>Net.Income.From.Continuing.Ops</th><td>-0.314058361 </td><td> 0.2025340   </td><td>-0.01464612  </td><td> 0.032640001 </td><td>-0.18784822  </td><td> 0.184456799 </td><td>-0.08991621  </td><td>-0.418107454 </td><td> 0.0103074441</td><td> 4.653850e-01</td><td>-7.358685e-03</td><td> 5.778807e-01</td><td> 2.369685e-01</td><td>-3.687542e-03</td></tr>\n",
       "\t<tr><th scope=row>Net.Income.Applicable.To.Common.Shares</th><td>-0.314109916 </td><td> 0.2009707   </td><td>-0.02927920  </td><td> 0.011861460 </td><td>-0.17802985  </td><td> 0.224512649 </td><td>-0.03754954  </td><td> 0.504544562 </td><td>-0.7224071048</td><td> 6.904344e-11</td><td>-1.701113e-16</td><td> 3.747003e-16</td><td> 2.872702e-15</td><td>-2.596664e-17</td></tr>\n",
       "</tbody>\n",
       "</table>\n"
      ],
      "text/latex": [
       "\\begin{tabular}{r|llllllllllllll}\n",
       "  & PC1 & PC2 & PC3 & PC4 & PC5 & PC6 & PC7 & PC8 & PC9 & PC10 & PC11 & PC12 & PC13 & PC14\\\\\n",
       "\\hline\n",
       "\tIncome.Before.Tax & -0.313723602  &  0.2120264    & -0.04057889   &  0.063090009  & -0.07975123   & -0.007465774  & -0.06979151   & -0.302109736  &  0.0080370334 &  4.032476e-01 &  9.016463e-03 & -7.080666e-01 & -2.903532e-01 &  4.518277e-03\\\\\n",
       "\tNet.Income & -0.314109913  &  0.2007916    & -0.02863539   &  0.007272681  & -0.17670294   &  0.229932105  & -0.05163781   &  0.543749976  &  0.6911740995 & -7.090512e-11 &  9.133319e-16 & -5.551115e-16 & -2.317591e-15 &  4.965646e-17\\\\\n",
       "\tSelling.General.Administrative & -0.267801186  & -0.2010564    & -0.11765092   & -0.436620115  &  0.64430283   &  0.245691370  & -0.45579427   & -0.009438939  & -0.0072168279 &  2.561149e-12 & -2.513181e-16 & -5.551115e-17 & -2.081668e-17 &  9.410875e-17\\\\\n",
       "\tGross.Profit & -0.319079826  & -0.0848021    &  0.12416207   & -0.169813517  &  0.26869891   &  0.157769002  &  0.82140559   & -0.056096604  &  0.0082666297 & -8.556509e-03 & -8.232005e-02 &  9.567831e-02 & -2.356679e-01 &  1.370639e-02\\\\\n",
       "\tEbit & -0.314051155  &  0.1031201    &  0.22636163   & -0.099864539  & -0.15451989   & -0.119551466  & -0.10208179   & -0.222383894  &  0.0053395729 & -4.773020e-01 & -5.161320e-02 & -9.577491e-03 &  1.074133e-02 & -7.076472e-01\\\\\n",
       "\tOperating.Income & -0.314051155  &  0.1031201    &  0.22636163   & -0.099864539  & -0.15451989   & -0.119551466  & -0.10208179   & -0.222383894  &  0.0053395729 & -4.773020e-01 & -2.365073e-02 & -2.698818e-02 &  7.604561e-02 &  7.046737e-01\\\\\n",
       "\tInterest.Expense &  0.132690500  &  0.2158609    & -0.50412290   & -0.732101806  & -0.29539099   & -0.201171243  &  0.13263384   & -0.019139518  &  0.0007816539 &  5.333296e-12 &  7.212655e-17 &  1.075529e-16 &  6.331741e-17 &  9.456953e-17\\\\\n",
       "\tIncome.Tax.Expense & -0.283220782  &  0.2305427    & -0.14122288   &  0.179830068  &  0.36289920   & -0.779524156  &  0.01772395   &  0.193016193  & -0.0018513880 &  1.155841e-01 & -1.827620e-03 &  1.435238e-01 &  5.885407e-02 & -9.158468e-04\\\\\n",
       "\tTotal.Revenue & -0.242077984  & -0.4060354    & -0.17356118   &  0.045665816  & -0.13891416   & -0.059140785  &  0.09439262   & -0.013163405  &  0.0018387935 & -2.158276e-02 &  8.237208e-01 & -5.981502e-02 &  1.710582e-01 & -2.495575e-02\\\\\n",
       "\tTotal.Operating.Expenses & -0.212132004  & -0.4487501    & -0.21871687   &  0.063494268  & -0.12552149   & -0.045505355  &  0.11584824   &  0.018759512  &  0.0011754311 &  4.738505e-02 & -5.100652e-01 & -2.478061e-01 &  5.881568e-01 & -2.015190e-02\\\\\n",
       "\tCost.Of.Revenue & -0.182560093  & -0.4700944    & -0.25931406   &  0.118132931  & -0.26916209   & -0.130375101  & -0.18243614   &  0.004171977  & -0.0007394358 & -2.351453e-02 & -2.262275e-01 &  2.629379e-01 & -6.476497e-01 &  3.766715e-02\\\\\n",
       "\tTotal.Other.Income.Expense.Net & -0.008854316  &  0.2783161    & -0.66741015   &  0.408603600  &  0.18412908   &  0.279483489  &  0.07842991   & -0.208272240  &  0.0069793765 & -3.853268e-01 & -8.079852e-10 & -1.100552e-08 &  8.695027e-09 &  2.511888e-10\\\\\n",
       "\tNet.Income.From.Continuing.Ops & -0.314058361  &  0.2025340    & -0.01464612   &  0.032640001  & -0.18784822   &  0.184456799  & -0.08991621   & -0.418107454  &  0.0103074441 &  4.653850e-01 & -7.358685e-03 &  5.778807e-01 &  2.369685e-01 & -3.687542e-03\\\\\n",
       "\tNet.Income.Applicable.To.Common.Shares & -0.314109916  &  0.2009707    & -0.02927920   &  0.011861460  & -0.17802985   &  0.224512649  & -0.03754954   &  0.504544562  & -0.7224071048 &  6.904344e-11 & -1.701113e-16 &  3.747003e-16 &  2.872702e-15 & -2.596664e-17\\\\\n",
       "\\end{tabular}\n"
      ],
      "text/markdown": [
       "\n",
       "| <!--/--> | PC1 | PC2 | PC3 | PC4 | PC5 | PC6 | PC7 | PC8 | PC9 | PC10 | PC11 | PC12 | PC13 | PC14 |\n",
       "|---|---|---|---|---|---|---|---|---|---|---|---|---|---|---|\n",
       "| Income.Before.Tax | -0.313723602  |  0.2120264    | -0.04057889   |  0.063090009  | -0.07975123   | -0.007465774  | -0.06979151   | -0.302109736  |  0.0080370334 |  4.032476e-01 |  9.016463e-03 | -7.080666e-01 | -2.903532e-01 |  4.518277e-03 |\n",
       "| Net.Income | -0.314109913  |  0.2007916    | -0.02863539   |  0.007272681  | -0.17670294   |  0.229932105  | -0.05163781   |  0.543749976  |  0.6911740995 | -7.090512e-11 |  9.133319e-16 | -5.551115e-16 | -2.317591e-15 |  4.965646e-17 |\n",
       "| Selling.General.Administrative | -0.267801186  | -0.2010564    | -0.11765092   | -0.436620115  |  0.64430283   |  0.245691370  | -0.45579427   | -0.009438939  | -0.0072168279 |  2.561149e-12 | -2.513181e-16 | -5.551115e-17 | -2.081668e-17 |  9.410875e-17 |\n",
       "| Gross.Profit | -0.319079826  | -0.0848021    |  0.12416207   | -0.169813517  |  0.26869891   |  0.157769002  |  0.82140559   | -0.056096604  |  0.0082666297 | -8.556509e-03 | -8.232005e-02 |  9.567831e-02 | -2.356679e-01 |  1.370639e-02 |\n",
       "| Ebit | -0.314051155  |  0.1031201    |  0.22636163   | -0.099864539  | -0.15451989   | -0.119551466  | -0.10208179   | -0.222383894  |  0.0053395729 | -4.773020e-01 | -5.161320e-02 | -9.577491e-03 |  1.074133e-02 | -7.076472e-01 |\n",
       "| Operating.Income | -0.314051155  |  0.1031201    |  0.22636163   | -0.099864539  | -0.15451989   | -0.119551466  | -0.10208179   | -0.222383894  |  0.0053395729 | -4.773020e-01 | -2.365073e-02 | -2.698818e-02 |  7.604561e-02 |  7.046737e-01 |\n",
       "| Interest.Expense |  0.132690500  |  0.2158609    | -0.50412290   | -0.732101806  | -0.29539099   | -0.201171243  |  0.13263384   | -0.019139518  |  0.0007816539 |  5.333296e-12 |  7.212655e-17 |  1.075529e-16 |  6.331741e-17 |  9.456953e-17 |\n",
       "| Income.Tax.Expense | -0.283220782  |  0.2305427    | -0.14122288   |  0.179830068  |  0.36289920   | -0.779524156  |  0.01772395   |  0.193016193  | -0.0018513880 |  1.155841e-01 | -1.827620e-03 |  1.435238e-01 |  5.885407e-02 | -9.158468e-04 |\n",
       "| Total.Revenue | -0.242077984  | -0.4060354    | -0.17356118   |  0.045665816  | -0.13891416   | -0.059140785  |  0.09439262   | -0.013163405  |  0.0018387935 | -2.158276e-02 |  8.237208e-01 | -5.981502e-02 |  1.710582e-01 | -2.495575e-02 |\n",
       "| Total.Operating.Expenses | -0.212132004  | -0.4487501    | -0.21871687   |  0.063494268  | -0.12552149   | -0.045505355  |  0.11584824   |  0.018759512  |  0.0011754311 |  4.738505e-02 | -5.100652e-01 | -2.478061e-01 |  5.881568e-01 | -2.015190e-02 |\n",
       "| Cost.Of.Revenue | -0.182560093  | -0.4700944    | -0.25931406   |  0.118132931  | -0.26916209   | -0.130375101  | -0.18243614   |  0.004171977  | -0.0007394358 | -2.351453e-02 | -2.262275e-01 |  2.629379e-01 | -6.476497e-01 |  3.766715e-02 |\n",
       "| Total.Other.Income.Expense.Net | -0.008854316  |  0.2783161    | -0.66741015   |  0.408603600  |  0.18412908   |  0.279483489  |  0.07842991   | -0.208272240  |  0.0069793765 | -3.853268e-01 | -8.079852e-10 | -1.100552e-08 |  8.695027e-09 |  2.511888e-10 |\n",
       "| Net.Income.From.Continuing.Ops | -0.314058361  |  0.2025340    | -0.01464612   |  0.032640001  | -0.18784822   |  0.184456799  | -0.08991621   | -0.418107454  |  0.0103074441 |  4.653850e-01 | -7.358685e-03 |  5.778807e-01 |  2.369685e-01 | -3.687542e-03 |\n",
       "| Net.Income.Applicable.To.Common.Shares | -0.314109916  |  0.2009707    | -0.02927920   |  0.011861460  | -0.17802985   |  0.224512649  | -0.03754954   |  0.504544562  | -0.7224071048 |  6.904344e-11 | -1.701113e-16 |  3.747003e-16 |  2.872702e-15 | -2.596664e-17 |\n",
       "\n"
      ],
      "text/plain": [
       "                                       PC1          PC2        PC3        \n",
       "Income.Before.Tax                      -0.313723602  0.2120264 -0.04057889\n",
       "Net.Income                             -0.314109913  0.2007916 -0.02863539\n",
       "Selling.General.Administrative         -0.267801186 -0.2010564 -0.11765092\n",
       "Gross.Profit                           -0.319079826 -0.0848021  0.12416207\n",
       "Ebit                                   -0.314051155  0.1031201  0.22636163\n",
       "Operating.Income                       -0.314051155  0.1031201  0.22636163\n",
       "Interest.Expense                        0.132690500  0.2158609 -0.50412290\n",
       "Income.Tax.Expense                     -0.283220782  0.2305427 -0.14122288\n",
       "Total.Revenue                          -0.242077984 -0.4060354 -0.17356118\n",
       "Total.Operating.Expenses               -0.212132004 -0.4487501 -0.21871687\n",
       "Cost.Of.Revenue                        -0.182560093 -0.4700944 -0.25931406\n",
       "Total.Other.Income.Expense.Net         -0.008854316  0.2783161 -0.66741015\n",
       "Net.Income.From.Continuing.Ops         -0.314058361  0.2025340 -0.01464612\n",
       "Net.Income.Applicable.To.Common.Shares -0.314109916  0.2009707 -0.02927920\n",
       "                                       PC4          PC5         PC6         \n",
       "Income.Before.Tax                       0.063090009 -0.07975123 -0.007465774\n",
       "Net.Income                              0.007272681 -0.17670294  0.229932105\n",
       "Selling.General.Administrative         -0.436620115  0.64430283  0.245691370\n",
       "Gross.Profit                           -0.169813517  0.26869891  0.157769002\n",
       "Ebit                                   -0.099864539 -0.15451989 -0.119551466\n",
       "Operating.Income                       -0.099864539 -0.15451989 -0.119551466\n",
       "Interest.Expense                       -0.732101806 -0.29539099 -0.201171243\n",
       "Income.Tax.Expense                      0.179830068  0.36289920 -0.779524156\n",
       "Total.Revenue                           0.045665816 -0.13891416 -0.059140785\n",
       "Total.Operating.Expenses                0.063494268 -0.12552149 -0.045505355\n",
       "Cost.Of.Revenue                         0.118132931 -0.26916209 -0.130375101\n",
       "Total.Other.Income.Expense.Net          0.408603600  0.18412908  0.279483489\n",
       "Net.Income.From.Continuing.Ops          0.032640001 -0.18784822  0.184456799\n",
       "Net.Income.Applicable.To.Common.Shares  0.011861460 -0.17802985  0.224512649\n",
       "                                       PC7         PC8          PC9          \n",
       "Income.Before.Tax                      -0.06979151 -0.302109736  0.0080370334\n",
       "Net.Income                             -0.05163781  0.543749976  0.6911740995\n",
       "Selling.General.Administrative         -0.45579427 -0.009438939 -0.0072168279\n",
       "Gross.Profit                            0.82140559 -0.056096604  0.0082666297\n",
       "Ebit                                   -0.10208179 -0.222383894  0.0053395729\n",
       "Operating.Income                       -0.10208179 -0.222383894  0.0053395729\n",
       "Interest.Expense                        0.13263384 -0.019139518  0.0007816539\n",
       "Income.Tax.Expense                      0.01772395  0.193016193 -0.0018513880\n",
       "Total.Revenue                           0.09439262 -0.013163405  0.0018387935\n",
       "Total.Operating.Expenses                0.11584824  0.018759512  0.0011754311\n",
       "Cost.Of.Revenue                        -0.18243614  0.004171977 -0.0007394358\n",
       "Total.Other.Income.Expense.Net          0.07842991 -0.208272240  0.0069793765\n",
       "Net.Income.From.Continuing.Ops         -0.08991621 -0.418107454  0.0103074441\n",
       "Net.Income.Applicable.To.Common.Shares -0.03754954  0.504544562 -0.7224071048\n",
       "                                       PC10          PC11         \n",
       "Income.Before.Tax                       4.032476e-01  9.016463e-03\n",
       "Net.Income                             -7.090512e-11  9.133319e-16\n",
       "Selling.General.Administrative          2.561149e-12 -2.513181e-16\n",
       "Gross.Profit                           -8.556509e-03 -8.232005e-02\n",
       "Ebit                                   -4.773020e-01 -5.161320e-02\n",
       "Operating.Income                       -4.773020e-01 -2.365073e-02\n",
       "Interest.Expense                        5.333296e-12  7.212655e-17\n",
       "Income.Tax.Expense                      1.155841e-01 -1.827620e-03\n",
       "Total.Revenue                          -2.158276e-02  8.237208e-01\n",
       "Total.Operating.Expenses                4.738505e-02 -5.100652e-01\n",
       "Cost.Of.Revenue                        -2.351453e-02 -2.262275e-01\n",
       "Total.Other.Income.Expense.Net         -3.853268e-01 -8.079852e-10\n",
       "Net.Income.From.Continuing.Ops          4.653850e-01 -7.358685e-03\n",
       "Net.Income.Applicable.To.Common.Shares  6.904344e-11 -1.701113e-16\n",
       "                                       PC12          PC13         \n",
       "Income.Before.Tax                      -7.080666e-01 -2.903532e-01\n",
       "Net.Income                             -5.551115e-16 -2.317591e-15\n",
       "Selling.General.Administrative         -5.551115e-17 -2.081668e-17\n",
       "Gross.Profit                            9.567831e-02 -2.356679e-01\n",
       "Ebit                                   -9.577491e-03  1.074133e-02\n",
       "Operating.Income                       -2.698818e-02  7.604561e-02\n",
       "Interest.Expense                        1.075529e-16  6.331741e-17\n",
       "Income.Tax.Expense                      1.435238e-01  5.885407e-02\n",
       "Total.Revenue                          -5.981502e-02  1.710582e-01\n",
       "Total.Operating.Expenses               -2.478061e-01  5.881568e-01\n",
       "Cost.Of.Revenue                         2.629379e-01 -6.476497e-01\n",
       "Total.Other.Income.Expense.Net         -1.100552e-08  8.695027e-09\n",
       "Net.Income.From.Continuing.Ops          5.778807e-01  2.369685e-01\n",
       "Net.Income.Applicable.To.Common.Shares  3.747003e-16  2.872702e-15\n",
       "                                       PC14         \n",
       "Income.Before.Tax                       4.518277e-03\n",
       "Net.Income                              4.965646e-17\n",
       "Selling.General.Administrative          9.410875e-17\n",
       "Gross.Profit                            1.370639e-02\n",
       "Ebit                                   -7.076472e-01\n",
       "Operating.Income                        7.046737e-01\n",
       "Interest.Expense                        9.456953e-17\n",
       "Income.Tax.Expense                     -9.158468e-04\n",
       "Total.Revenue                          -2.495575e-02\n",
       "Total.Operating.Expenses               -2.015190e-02\n",
       "Cost.Of.Revenue                         3.766715e-02\n",
       "Total.Other.Income.Expense.Net          2.511888e-10\n",
       "Net.Income.From.Continuing.Ops         -3.687542e-03\n",
       "Net.Income.Applicable.To.Common.Shares -2.596664e-17"
      ]
     },
     "metadata": {},
     "output_type": "display_data"
    }
   ],
   "source": [
    "pca$rotation"
   ]
  },
  {
   "cell_type": "code",
   "execution_count": 72,
   "id": "c0a1c171-cce2-4232-9e99-a889dbebcdfc",
   "metadata": {},
   "outputs": [
    {
     "data": {
      "text/html": [
       "<ol class=list-inline>\n",
       "\t<li>8.91449124584913</li>\n",
       "\t<li>2.57083993313698</li>\n",
       "\t<li>1.5456901930123</li>\n",
       "\t<li>0.561732881446988</li>\n",
       "\t<li>0.2863675439999</li>\n",
       "\t<li>0.101103797531624</li>\n",
       "\t<li>0.0158275451197922</li>\n",
       "\t<li>0.00389665222567585</li>\n",
       "\t<li>5.02076775778099e-05</li>\n",
       "\t<li>1.58776154764603e-16</li>\n",
       "\t<li>8.74869460352782e-17</li>\n",
       "\t<li>6.84991820836099e-17</li>\n",
       "\t<li>-2.71952744372054e-17</li>\n",
       "\t<li>-2.17997765303668e-16</li>\n",
       "</ol>\n"
      ],
      "text/latex": [
       "\\begin{enumerate*}\n",
       "\\item 8.91449124584913\n",
       "\\item 2.57083993313698\n",
       "\\item 1.5456901930123\n",
       "\\item 0.561732881446988\n",
       "\\item 0.2863675439999\n",
       "\\item 0.101103797531624\n",
       "\\item 0.0158275451197922\n",
       "\\item 0.00389665222567585\n",
       "\\item 5.02076775778099e-05\n",
       "\\item 1.58776154764603e-16\n",
       "\\item 8.74869460352782e-17\n",
       "\\item 6.84991820836099e-17\n",
       "\\item -2.71952744372054e-17\n",
       "\\item -2.17997765303668e-16\n",
       "\\end{enumerate*}\n"
      ],
      "text/markdown": [
       "1. 8.91449124584913\n",
       "2. 2.57083993313698\n",
       "3. 1.5456901930123\n",
       "4. 0.561732881446988\n",
       "5. 0.2863675439999\n",
       "6. 0.101103797531624\n",
       "7. 0.0158275451197922\n",
       "8. 0.00389665222567585\n",
       "9. 5.02076775778099e-05\n",
       "10. 1.58776154764603e-16\n",
       "11. 8.74869460352782e-17\n",
       "12. 6.84991820836099e-17\n",
       "13. -2.71952744372054e-17\n",
       "14. -2.17997765303668e-16\n",
       "\n",
       "\n"
      ],
      "text/plain": [
       " [1]  8.914491e+00  2.570840e+00  1.545690e+00  5.617329e-01  2.863675e-01\n",
       " [6]  1.011038e-01  1.582755e-02  3.896652e-03  5.020768e-05  1.587762e-16\n",
       "[11]  8.748695e-17  6.849918e-17 -2.719527e-17 -2.179978e-16"
      ]
     },
     "metadata": {},
     "output_type": "display_data"
    }
   ],
   "source": [
    "df_adj_z.cov<-cov(df_adj_z)\n",
    "df_adj_z.eigen<-eigen(df_adj_z.cov)\n",
    "df_adj_z.eigen$values"
   ]
  },
  {
   "cell_type": "code",
   "execution_count": 73,
   "id": "552329af-e454-4688-945f-22256dbe2ca1",
   "metadata": {
    "tags": []
   },
   "outputs": [
    {
     "data": {
      "image/png": "[encoded data removed]",
      "text/plain": [
       "plot without title"
      ]
     },
     "metadata": {},
     "output_type": "display_data"
    }
   ],
   "source": [
    "fviz_eig(pca, choice='eigenvalue')"
   ]
  },
  {
   "cell_type": "code",
   "execution_count": 74,
   "id": "411e423b-6e2b-4973-872f-fa734fc0b766",
   "metadata": {},
   "outputs": [
    {
     "data": {
      "text/plain": [
       "Importance of components:\n",
       "                          PC1    PC2    PC3     PC4     PC5     PC6     PC7\n",
       "Standard deviation     2.9857 1.6034 1.2433 0.74949 0.53513 0.31797 0.12581\n",
       "Proportion of Variance 0.6368 0.1836 0.1104 0.04012 0.02045 0.00722 0.00113\n",
       "Cumulative Proportion  0.6368 0.8204 0.9308 0.97091 0.99137 0.99859 0.99972\n",
       "                           PC8      PC9      PC10      PC11      PC12      PC13\n",
       "Standard deviation     0.06242 0.007086 1.116e-10 2.556e-16 1.409e-16 9.795e-17\n",
       "Proportion of Variance 0.00028 0.000000 0.000e+00 0.000e+00 0.000e+00 0.000e+00\n",
       "Cumulative Proportion  1.00000 1.000000 1.000e+00 1.000e+00 1.000e+00 1.000e+00\n",
       "                            PC14\n",
       "Standard deviation     1.044e-17\n",
       "Proportion of Variance 0.000e+00\n",
       "Cumulative Proportion  1.000e+00"
      ]
     },
     "metadata": {},
     "output_type": "display_data"
    }
   ],
   "source": [
    "summary(pca)"
   ]
  },
  {
   "cell_type": "code",
   "execution_count": 75,
   "id": "cd1fcd86-4ba3-4d67-9859-08b286ea335b",
   "metadata": {},
   "outputs": [
    {
     "data": {
      "image/png": "[encoded data removed]",
      "text/plain": [
       "plot without title"
      ]
     },
     "metadata": {},
     "output_type": "display_data"
    }
   ],
   "source": [
    "fviz_eig(pca)"
   ]
  },
  {
   "cell_type": "code",
   "execution_count": 76,
   "id": "9cd2e92c-bef6-4a0a-b8ba-4769b4c1e4d0",
   "metadata": {},
   "outputs": [
    {
     "data": {
      "image/png": "[encoded data removed]",
      "text/plain": [
       "plot without title"
      ]
     },
     "metadata": {},
     "output_type": "display_data"
    }
   ],
   "source": [
    "fviz_pca_ind(pca, col.ind=\"cos2\", geom = \"point\", gradient.cols = c(\"green\", \"yellow\", \"red\" ))"
   ]
  },
  {
   "cell_type": "code",
   "execution_count": 77,
   "id": "7fda2c72-0c4b-4cf6-a1a7-b05db0c26ebd",
   "metadata": {},
   "outputs": [
    {
     "data": {
      "image/png": "[encoded data removed]",
      "text/plain": [
       "plot without title"
      ]
     },
     "metadata": {},
     "output_type": "display_data"
    }
   ],
   "source": [
    "fviz_pca_var(pca, col.var = \"red\")"
   ]
  },
  {
   "cell_type": "code",
   "execution_count": 79,
   "id": "7f280748-5b6c-4079-97e4-5569b745aeaf",
   "metadata": {},
   "outputs": [
    {
     "name": "stderr",
     "output_type": "stream",
     "text": [
      "also installing the dependencies 'proxy', 'e1071', 'KernSmooth', 'wk', 'rex', 'systemfonts', 'textshaping', 'deldir', 'xfun', 'mvtnorm', 'TH.data', 'sandwich', 'codetools', 'tinytex', 'classInt', 's2', 'units', 'testthat', 'covr', 'ragg', 'ggplot2movies', 'hexbin', 'interp', 'knitr', 'mapproj', 'maps', 'multcomp', 'profvis', 'rgeos', 'rmarkdown', 'sf', 'svglite', 'vdiffr'\n",
      "\n"
     ]
    },
    {
     "name": "stdout",
     "output_type": "stream",
     "text": [
      "\n",
      "  There are binary versions available but the source versions are later:\n",
      "            binary source needs_compilation\n",
      "proxy       0.4-25 0.4-26              TRUE\n",
      "e1071        1.7-6  1.7-9              TRUE\n",
      "wk           0.4.1  0.6.0              TRUE\n",
      "rex          1.2.0  1.2.1             FALSE\n",
      "systemfonts  1.0.2  1.0.4              TRUE\n",
      "textshaping  0.3.4  0.3.6              TRUE\n",
      "deldir      0.2-10  1.0-6              TRUE\n",
      "xfun          0.22   0.29              TRUE\n",
      "mvtnorm      1.1-1  1.1-3              TRUE\n",
      "TH.data     1.0-10  1.1-0             FALSE\n",
      "sandwich     3.0-0  3.0-1             FALSE\n",
      "tinytex       0.31   0.37             FALSE\n",
      "s2           1.0.4  1.0.7              TRUE\n",
      "units        0.7-1  0.8-0              TRUE\n",
      "testthat     3.0.2  3.1.2              TRUE\n",
      "ragg         1.1.2  1.2.1              TRUE\n",
      "knitr         1.33   1.37             FALSE\n",
      "mapproj      1.2.7  1.2.8              TRUE\n",
      "maps         3.3.0  3.4.0              TRUE\n",
      "multcomp    1.4-17 1.4-18             FALSE\n",
      "rgeos        0.5-5  0.5-9              TRUE\n",
      "rmarkdown      2.8   2.11             FALSE\n",
      "sf           0.9-8  1.0-6              TRUE\n",
      "svglite      2.0.0  2.1.0              TRUE\n",
      "vdiffr       0.3.3  1.0.2              TRUE\n",
      "ggplot2      3.3.3  3.3.5             FALSE\n",
      "\n",
      "  Binaries will be installed\n",
      "package 'proxy' successfully unpacked and MD5 sums checked\n",
      "package 'e1071' successfully unpacked and MD5 sums checked\n",
      "package 'KernSmooth' successfully unpacked and MD5 sums checked\n",
      "package 'wk' successfully unpacked and MD5 sums checked\n",
      "package 'systemfonts' successfully unpacked and MD5 sums checked\n",
      "package 'textshaping' successfully unpacked and MD5 sums checked\n",
      "package 'deldir' successfully unpacked and MD5 sums checked\n",
      "package 'xfun' successfully unpacked and MD5 sums checked\n",
      "package 'mvtnorm' successfully unpacked and MD5 sums checked\n",
      "package 'codetools' successfully unpacked and MD5 sums checked\n",
      "package 'classInt' successfully unpacked and MD5 sums checked\n",
      "package 's2' successfully unpacked and MD5 sums checked\n",
      "package 'units' successfully unpacked and MD5 sums checked\n",
      "package 'testthat' successfully unpacked and MD5 sums checked\n",
      "package 'covr' successfully unpacked and MD5 sums checked\n",
      "package 'ragg' successfully unpacked and MD5 sums checked\n",
      "package 'ggplot2movies' successfully unpacked and MD5 sums checked\n",
      "package 'hexbin' successfully unpacked and MD5 sums checked\n",
      "package 'interp' successfully unpacked and MD5 sums checked\n",
      "package 'mapproj' successfully unpacked and MD5 sums checked\n",
      "package 'maps' successfully unpacked and MD5 sums checked\n",
      "package 'profvis' successfully unpacked and MD5 sums checked\n",
      "package 'rgeos' successfully unpacked and MD5 sums checked\n",
      "package 'sf' successfully unpacked and MD5 sums checked\n",
      "package 'svglite' successfully unpacked and MD5 sums checked\n",
      "package 'vdiffr' successfully unpacked and MD5 sums checked\n",
      "\n",
      "The downloaded binary packages are in\n",
      "\tC:\\Users\\duzzi\\AppData\\Local\\Temp\\RtmpCAFaau\\downloaded_packages\n"
     ]
    },
    {
     "name": "stderr",
     "output_type": "stream",
     "text": [
      "installing the source packages 'rex', 'TH.data', 'sandwich', 'tinytex', 'knitr', 'multcomp', 'rmarkdown', 'ggplot2'\n",
      "\n",
      "Warning message in install.packages(\"ggplot2\", repo = \"http://cran.r-project.org\", :\n",
      "\"installation of package 'tinytex' had non-zero exit status\"Warning message in install.packages(\"ggplot2\", repo = \"http://cran.r-project.org\", :\n",
      "\"installation of package 'knitr' had non-zero exit status\"Warning message in install.packages(\"ggplot2\", repo = \"http://cran.r-project.org\", :\n",
      "\"installation of package 'rmarkdown' had non-zero exit status\"also installing the dependencies 'xfun', 'egg', 'knitr'\n",
      "\n"
     ]
    },
    {
     "name": "stdout",
     "output_type": "stream",
     "text": [
      "\n",
      "  There are binary versions available but the source versions are later:\n",
      "      binary source needs_compilation\n",
      "xfun    0.22   0.29              TRUE\n",
      "knitr   1.33   1.37             FALSE\n",
      "\n",
      "  Binaries will be installed\n",
      "package 'xfun' successfully unpacked and MD5 sums checked\n",
      "package 'egg' successfully unpacked and MD5 sums checked\n",
      "package 'gridExtra' successfully unpacked and MD5 sums checked\n",
      "\n",
      "The downloaded binary packages are in\n",
      "\tC:\\Users\\duzzi\\AppData\\Local\\Temp\\RtmpCAFaau\\downloaded_packages\n"
     ]
    },
    {
     "name": "stderr",
     "output_type": "stream",
     "text": [
      "installing the source package 'knitr'\n",
      "\n",
      "Warning message in install.packages(\"gridExtra\", repo = \"http://cran.r-project.org\", :\n",
      "\"installation of package 'knitr' had non-zero exit status\"Warning message:\n",
      "\"package 'gridExtra' was built under R version 3.6.3\""
     ]
    }
   ],
   "source": [
    "install.packages(\"ggplot2\", repo=\"http://cran.r-project.org\",dep=TRUE)\n",
    "install.packages(\"gridExtra\", repo=\"http://cran.r-project.org\",dep=TRUE)\n",
    "library(ggplot2)\n",
    "library(gridExtra)"
   ]
  },
  {
   "cell_type": "code",
   "execution_count": 80,
   "id": "ecded340-24d0-405d-8773-35b3e52a8032",
   "metadata": {},
   "outputs": [
    {
     "data": {
      "image/png": "[encoded data removed]",
      "text/plain": [
       "plot without title"
      ]
     },
     "metadata": {},
     "output_type": "display_data"
    }
   ],
   "source": [
    "PC1 <- fviz_contrib(pca, choice = \"var\", axes = 1)\n",
    "PC2 <- fviz_contrib(pca, choice = \"var\", axes = 2)\n",
    "PC3 <- fviz_contrib(pca, choice = \"var\", axes = 3)\n",
    "grid.arrange(PC1, PC2, PC3)"
   ]
  },
  {
   "cell_type": "code",
   "execution_count": 39,
   "id": "c9ff4f1e-2bea-4c1d-82a3-108e30709508",
   "metadata": {
    "tags": []
   },
   "outputs": [
    {
     "data": {
      "text/html": [
       "<table>\n",
       "<thead><tr><th></th><th scope=col>vars</th><th scope=col>n</th><th scope=col>mean</th><th scope=col>sd</th><th scope=col>median</th><th scope=col>trimmed</th><th scope=col>mad</th><th scope=col>min</th><th scope=col>max</th><th scope=col>range</th><th scope=col>skew</th><th scope=col>kurtosis</th><th scope=col>se</th></tr></thead>\n",
       "<tbody>\n",
       "\t<tr><th scope=row>Income.Before.Tax</th><td> 1           </td><td>71           </td><td> 2.235327e-17</td><td>1            </td><td>-0.1925432   </td><td>-0.1053197   </td><td>0.4010861    </td><td>-2.7979595   </td><td>4.2619719    </td><td>7.059931     </td><td> 1.4095732   </td><td> 4.943683    </td><td>0.1186782    </td></tr>\n",
       "\t<tr><th scope=row>Net.Income</th><td> 2           </td><td>71           </td><td> 5.562711e-17</td><td>1            </td><td>-0.2145913   </td><td>-0.1122009   </td><td>0.4200182    </td><td>-2.5105964   </td><td>4.3232392    </td><td>6.833836     </td><td> 1.5239019   </td><td> 5.253728    </td><td>0.1186782    </td></tr>\n",
       "\t<tr><th scope=row>Selling.General.Administrative</th><td> 3           </td><td>71           </td><td> 5.132094e-17</td><td>1            </td><td>-0.3234247   </td><td>-0.2321274   </td><td>0.2557030    </td><td>-0.6915542   </td><td>5.4779983    </td><td>6.169553     </td><td> 3.4170086   </td><td>13.452928    </td><td>0.1186782    </td></tr>\n",
       "\t<tr><th scope=row>Gross.Profit</th><td> 4           </td><td>71           </td><td>-4.645291e-17</td><td>1            </td><td>-0.3439002   </td><td>-0.2380307   </td><td>0.3561851    </td><td>-0.9489967   </td><td>3.8104784    </td><td>4.759475     </td><td> 2.4426342   </td><td> 5.713219    </td><td>0.1186782    </td></tr>\n",
       "\t<tr><th scope=row>Ebit</th><td> 5           </td><td>71           </td><td>-5.194999e-17</td><td>1            </td><td>-0.3056352   </td><td>-0.2037430   </td><td>0.3382685    </td><td>-1.7565247   </td><td>4.1008396    </td><td>5.857364     </td><td> 2.3521850   </td><td> 6.177499    </td><td>0.1186782    </td></tr>\n",
       "\t<tr><th scope=row>Operating.Income</th><td> 6           </td><td>71           </td><td>-5.194999e-17</td><td>1            </td><td>-0.3056352   </td><td>-0.2037430   </td><td>0.3382685    </td><td>-1.7565247   </td><td>4.1008396    </td><td>5.857364     </td><td> 2.3521850   </td><td> 6.177499    </td><td>0.1186782    </td></tr>\n",
       "\t<tr><th scope=row>Interest.Expense</th><td> 7           </td><td>71           </td><td>-5.685190e-18</td><td>1            </td><td> 0.3345761   </td><td> 0.2246908   </td><td>0.4354061    </td><td>-5.2025151   </td><td>0.6719467    </td><td>5.874462     </td><td>-2.9210924   </td><td>10.133401    </td><td>0.1186782    </td></tr>\n",
       "\t<tr><th scope=row>Income.Tax.Expense</th><td> 8           </td><td>71           </td><td>-2.236052e-17</td><td>1            </td><td>-0.1765812   </td><td>-0.0757265   </td><td>0.4128749    </td><td>-3.7827991   </td><td>3.8279906    </td><td>7.610790     </td><td> 0.5455883   </td><td> 5.041531    </td><td>0.1186782    </td></tr>\n",
       "\t<tr><th scope=row>Total.Revenue</th><td> 9           </td><td>71           </td><td> 8.858008e-18</td><td>1            </td><td>-0.3575393   </td><td>-0.2267625   </td><td>0.3848157    </td><td>-0.7082011   </td><td>4.1165654    </td><td>4.824766     </td><td> 2.3421149   </td><td> 5.389884    </td><td>0.1186782    </td></tr>\n",
       "\t<tr><th scope=row>Total.Operating.Expenses</th><td>10           </td><td>71           </td><td> 1.261492e-17</td><td>1            </td><td>-0.3743289   </td><td>-0.2384395   </td><td>0.3046655    </td><td>-0.6547039   </td><td>4.1905992    </td><td>4.845303     </td><td> 2.6024427   </td><td> 6.738287    </td><td>0.1186782    </td></tr>\n",
       "\t<tr><th scope=row>Cost.Of.Revenue</th><td>11           </td><td>71           </td><td>-1.518647e-17</td><td>1            </td><td>-0.3515012   </td><td>-0.2450976   </td><td>0.2968522    </td><td>-0.6248721   </td><td>3.9776768    </td><td>4.602549     </td><td> 2.6729350   </td><td> 6.860176    </td><td>0.1186782    </td></tr>\n",
       "\t<tr><th scope=row>Total.Other.Income.Expense.Net</th><td>12           </td><td>71           </td><td>-2.724096e-17</td><td>1            </td><td> 0.2346449   </td><td> 0.1756573   </td><td>0.1754189    </td><td>-5.2672833   </td><td>2.8092337    </td><td>8.076517     </td><td>-2.6608653   </td><td>11.379918    </td><td>0.1186782    </td></tr>\n",
       "\t<tr><th scope=row>Net.Income.From.Continuing.Ops</th><td>13           </td><td>71           </td><td> 1.546992e-18</td><td>1            </td><td>-0.2207402   </td><td>-0.1116663   </td><td>0.3910410    </td><td>-2.4887832   </td><td>4.2713868    </td><td>6.760170     </td><td> 1.5040558   </td><td> 4.991020    </td><td>0.1186782    </td></tr>\n",
       "\t<tr><th scope=row>Net.Income.Applicable.To.Common.Shares</th><td>14           </td><td>71           </td><td>-2.498055e-17</td><td>1            </td><td>-0.2122825   </td><td>-0.1112967   </td><td>0.4228241    </td><td>-2.5236263   </td><td>4.2710215    </td><td>6.794648     </td><td> 1.4829345   </td><td> 5.060139    </td><td>0.1186782    </td></tr>\n",
       "</tbody>\n",
       "</table>\n"
      ],
      "text/latex": [
       "\\begin{tabular}{r|lllllllllllll}\n",
       "  & vars & n & mean & sd & median & trimmed & mad & min & max & range & skew & kurtosis & se\\\\\n",
       "\\hline\n",
       "\tIncome.Before.Tax &  1            & 71            &  2.235327e-17 & 1             & -0.1925432    & -0.1053197    & 0.4010861     & -2.7979595    & 4.2619719     & 7.059931      &  1.4095732    &  4.943683     & 0.1186782    \\\\\n",
       "\tNet.Income &  2            & 71            &  5.562711e-17 & 1             & -0.2145913    & -0.1122009    & 0.4200182     & -2.5105964    & 4.3232392     & 6.833836      &  1.5239019    &  5.253728     & 0.1186782    \\\\\n",
       "\tSelling.General.Administrative &  3            & 71            &  5.132094e-17 & 1             & -0.3234247    & -0.2321274    & 0.2557030     & -0.6915542    & 5.4779983     & 6.169553      &  3.4170086    & 13.452928     & 0.1186782    \\\\\n",
       "\tGross.Profit &  4            & 71            & -4.645291e-17 & 1             & -0.3439002    & -0.2380307    & 0.3561851     & -0.9489967    & 3.8104784     & 4.759475      &  2.4426342    &  5.713219     & 0.1186782    \\\\\n",
       "\tEbit &  5            & 71            & -5.194999e-17 & 1             & -0.3056352    & -0.2037430    & 0.3382685     & -1.7565247    & 4.1008396     & 5.857364      &  2.3521850    &  6.177499     & 0.1186782    \\\\\n",
       "\tOperating.Income &  6            & 71            & -5.194999e-17 & 1             & -0.3056352    & -0.2037430    & 0.3382685     & -1.7565247    & 4.1008396     & 5.857364      &  2.3521850    &  6.177499     & 0.1186782    \\\\\n",
       "\tInterest.Expense &  7            & 71            & -5.685190e-18 & 1             &  0.3345761    &  0.2246908    & 0.4354061     & -5.2025151    & 0.6719467     & 5.874462      & -2.9210924    & 10.133401     & 0.1186782    \\\\\n",
       "\tIncome.Tax.Expense &  8            & 71            & -2.236052e-17 & 1             & -0.1765812    & -0.0757265    & 0.4128749     & -3.7827991    & 3.8279906     & 7.610790      &  0.5455883    &  5.041531     & 0.1186782    \\\\\n",
       "\tTotal.Revenue &  9            & 71            &  8.858008e-18 & 1             & -0.3575393    & -0.2267625    & 0.3848157     & -0.7082011    & 4.1165654     & 4.824766      &  2.3421149    &  5.389884     & 0.1186782    \\\\\n",
       "\tTotal.Operating.Expenses & 10            & 71            &  1.261492e-17 & 1             & -0.3743289    & -0.2384395    & 0.3046655     & -0.6547039    & 4.1905992     & 4.845303      &  2.6024427    &  6.738287     & 0.1186782    \\\\\n",
       "\tCost.Of.Revenue & 11            & 71            & -1.518647e-17 & 1             & -0.3515012    & -0.2450976    & 0.2968522     & -0.6248721    & 3.9776768     & 4.602549      &  2.6729350    &  6.860176     & 0.1186782    \\\\\n",
       "\tTotal.Other.Income.Expense.Net & 12            & 71            & -2.724096e-17 & 1             &  0.2346449    &  0.1756573    & 0.1754189     & -5.2672833    & 2.8092337     & 8.076517      & -2.6608653    & 11.379918     & 0.1186782    \\\\\n",
       "\tNet.Income.From.Continuing.Ops & 13            & 71            &  1.546992e-18 & 1             & -0.2207402    & -0.1116663    & 0.3910410     & -2.4887832    & 4.2713868     & 6.760170      &  1.5040558    &  4.991020     & 0.1186782    \\\\\n",
       "\tNet.Income.Applicable.To.Common.Shares & 14            & 71            & -2.498055e-17 & 1             & -0.2122825    & -0.1112967    & 0.4228241     & -2.5236263    & 4.2710215     & 6.794648      &  1.4829345    &  5.060139     & 0.1186782    \\\\\n",
       "\\end{tabular}\n"
      ],
      "text/markdown": [
       "\n",
       "| <!--/--> | vars | n | mean | sd | median | trimmed | mad | min | max | range | skew | kurtosis | se |\n",
       "|---|---|---|---|---|---|---|---|---|---|---|---|---|---|\n",
       "| Income.Before.Tax |  1            | 71            |  2.235327e-17 | 1             | -0.1925432    | -0.1053197    | 0.4010861     | -2.7979595    | 4.2619719     | 7.059931      |  1.4095732    |  4.943683     | 0.1186782     |\n",
       "| Net.Income |  2            | 71            |  5.562711e-17 | 1             | -0.2145913    | -0.1122009    | 0.4200182     | -2.5105964    | 4.3232392     | 6.833836      |  1.5239019    |  5.253728     | 0.1186782     |\n",
       "| Selling.General.Administrative |  3            | 71            |  5.132094e-17 | 1             | -0.3234247    | -0.2321274    | 0.2557030     | -0.6915542    | 5.4779983     | 6.169553      |  3.4170086    | 13.452928     | 0.1186782     |\n",
       "| Gross.Profit |  4            | 71            | -4.645291e-17 | 1             | -0.3439002    | -0.2380307    | 0.3561851     | -0.9489967    | 3.8104784     | 4.759475      |  2.4426342    |  5.713219     | 0.1186782     |\n",
       "| Ebit |  5            | 71            | -5.194999e-17 | 1             | -0.3056352    | -0.2037430    | 0.3382685     | -1.7565247    | 4.1008396     | 5.857364      |  2.3521850    |  6.177499     | 0.1186782     |\n",
       "| Operating.Income |  6            | 71            | -5.194999e-17 | 1             | -0.3056352    | -0.2037430    | 0.3382685     | -1.7565247    | 4.1008396     | 5.857364      |  2.3521850    |  6.177499     | 0.1186782     |\n",
       "| Interest.Expense |  7            | 71            | -5.685190e-18 | 1             |  0.3345761    |  0.2246908    | 0.4354061     | -5.2025151    | 0.6719467     | 5.874462      | -2.9210924    | 10.133401     | 0.1186782     |\n",
       "| Income.Tax.Expense |  8            | 71            | -2.236052e-17 | 1             | -0.1765812    | -0.0757265    | 0.4128749     | -3.7827991    | 3.8279906     | 7.610790      |  0.5455883    |  5.041531     | 0.1186782     |\n",
       "| Total.Revenue |  9            | 71            |  8.858008e-18 | 1             | -0.3575393    | -0.2267625    | 0.3848157     | -0.7082011    | 4.1165654     | 4.824766      |  2.3421149    |  5.389884     | 0.1186782     |\n",
       "| Total.Operating.Expenses | 10            | 71            |  1.261492e-17 | 1             | -0.3743289    | -0.2384395    | 0.3046655     | -0.6547039    | 4.1905992     | 4.845303      |  2.6024427    |  6.738287     | 0.1186782     |\n",
       "| Cost.Of.Revenue | 11            | 71            | -1.518647e-17 | 1             | -0.3515012    | -0.2450976    | 0.2968522     | -0.6248721    | 3.9776768     | 4.602549      |  2.6729350    |  6.860176     | 0.1186782     |\n",
       "| Total.Other.Income.Expense.Net | 12            | 71            | -2.724096e-17 | 1             |  0.2346449    |  0.1756573    | 0.1754189     | -5.2672833    | 2.8092337     | 8.076517      | -2.6608653    | 11.379918     | 0.1186782     |\n",
       "| Net.Income.From.Continuing.Ops | 13            | 71            |  1.546992e-18 | 1             | -0.2207402    | -0.1116663    | 0.3910410     | -2.4887832    | 4.2713868     | 6.760170      |  1.5040558    |  4.991020     | 0.1186782     |\n",
       "| Net.Income.Applicable.To.Common.Shares | 14            | 71            | -2.498055e-17 | 1             | -0.2122825    | -0.1112967    | 0.4228241     | -2.5236263    | 4.2710215     | 6.794648      |  1.4829345    |  5.060139     | 0.1186782     |\n",
       "\n"
      ],
      "text/plain": [
       "                                       vars n  mean          sd median    \n",
       "Income.Before.Tax                       1   71  2.235327e-17 1  -0.1925432\n",
       "Net.Income                              2   71  5.562711e-17 1  -0.2145913\n",
       "Selling.General.Administrative          3   71  5.132094e-17 1  -0.3234247\n",
       "Gross.Profit                            4   71 -4.645291e-17 1  -0.3439002\n",
       "Ebit                                    5   71 -5.194999e-17 1  -0.3056352\n",
       "Operating.Income                        6   71 -5.194999e-17 1  -0.3056352\n",
       "Interest.Expense                        7   71 -5.685190e-18 1   0.3345761\n",
       "Income.Tax.Expense                      8   71 -2.236052e-17 1  -0.1765812\n",
       "Total.Revenue                           9   71  8.858008e-18 1  -0.3575393\n",
       "Total.Operating.Expenses               10   71  1.261492e-17 1  -0.3743289\n",
       "Cost.Of.Revenue                        11   71 -1.518647e-17 1  -0.3515012\n",
       "Total.Other.Income.Expense.Net         12   71 -2.724096e-17 1   0.2346449\n",
       "Net.Income.From.Continuing.Ops         13   71  1.546992e-18 1  -0.2207402\n",
       "Net.Income.Applicable.To.Common.Shares 14   71 -2.498055e-17 1  -0.2122825\n",
       "                                       trimmed    mad       min       \n",
       "Income.Before.Tax                      -0.1053197 0.4010861 -2.7979595\n",
       "Net.Income                             -0.1122009 0.4200182 -2.5105964\n",
       "Selling.General.Administrative         -0.2321274 0.2557030 -0.6915542\n",
       "Gross.Profit                           -0.2380307 0.3561851 -0.9489967\n",
       "Ebit                                   -0.2037430 0.3382685 -1.7565247\n",
       "Operating.Income                       -0.2037430 0.3382685 -1.7565247\n",
       "Interest.Expense                        0.2246908 0.4354061 -5.2025151\n",
       "Income.Tax.Expense                     -0.0757265 0.4128749 -3.7827991\n",
       "Total.Revenue                          -0.2267625 0.3848157 -0.7082011\n",
       "Total.Operating.Expenses               -0.2384395 0.3046655 -0.6547039\n",
       "Cost.Of.Revenue                        -0.2450976 0.2968522 -0.6248721\n",
       "Total.Other.Income.Expense.Net          0.1756573 0.1754189 -5.2672833\n",
       "Net.Income.From.Continuing.Ops         -0.1116663 0.3910410 -2.4887832\n",
       "Net.Income.Applicable.To.Common.Shares -0.1112967 0.4228241 -2.5236263\n",
       "                                       max       range    skew       kurtosis \n",
       "Income.Before.Tax                      4.2619719 7.059931  1.4095732  4.943683\n",
       "Net.Income                             4.3232392 6.833836  1.5239019  5.253728\n",
       "Selling.General.Administrative         5.4779983 6.169553  3.4170086 13.452928\n",
       "Gross.Profit                           3.8104784 4.759475  2.4426342  5.713219\n",
       "Ebit                                   4.1008396 5.857364  2.3521850  6.177499\n",
       "Operating.Income                       4.1008396 5.857364  2.3521850  6.177499\n",
       "Interest.Expense                       0.6719467 5.874462 -2.9210924 10.133401\n",
       "Income.Tax.Expense                     3.8279906 7.610790  0.5455883  5.041531\n",
       "Total.Revenue                          4.1165654 4.824766  2.3421149  5.389884\n",
       "Total.Operating.Expenses               4.1905992 4.845303  2.6024427  6.738287\n",
       "Cost.Of.Revenue                        3.9776768 4.602549  2.6729350  6.860176\n",
       "Total.Other.Income.Expense.Net         2.8092337 8.076517 -2.6608653 11.379918\n",
       "Net.Income.From.Continuing.Ops         4.2713868 6.760170  1.5040558  4.991020\n",
       "Net.Income.Applicable.To.Common.Shares 4.2710215 6.794648  1.4829345  5.060139\n",
       "                                       se       \n",
       "Income.Before.Tax                      0.1186782\n",
       "Net.Income                             0.1186782\n",
       "Selling.General.Administrative         0.1186782\n",
       "Gross.Profit                           0.1186782\n",
       "Ebit                                   0.1186782\n",
       "Operating.Income                       0.1186782\n",
       "Interest.Expense                       0.1186782\n",
       "Income.Tax.Expense                     0.1186782\n",
       "Total.Revenue                          0.1186782\n",
       "Total.Operating.Expenses               0.1186782\n",
       "Cost.Of.Revenue                        0.1186782\n",
       "Total.Other.Income.Expense.Net         0.1186782\n",
       "Net.Income.From.Continuing.Ops         0.1186782\n",
       "Net.Income.Applicable.To.Common.Shares 0.1186782"
      ]
     },
     "metadata": {},
     "output_type": "display_data"
    }
   ],
   "source": [
    "describe(df_adj_z)"
   ]
  },
  {
   "cell_type": "code",
   "execution_count": 40,
   "id": "645d4ac3-a56f-490a-a553-889cb212de4b",
   "metadata": {},
   "outputs": [
    {
     "name": "stdout",
     "output_type": "stream",
     "text": [
      "package 'factoextra' successfully unpacked and MD5 sums checked\n",
      "\n",
      "The downloaded binary packages are in\n",
      "\tC:\\Users\\duzzi\\AppData\\Local\\Temp\\RtmpCAFaau\\downloaded_packages\n",
      "package 'flexclust' successfully unpacked and MD5 sums checked\n",
      "\n",
      "The downloaded binary packages are in\n",
      "\tC:\\Users\\duzzi\\AppData\\Local\\Temp\\RtmpCAFaau\\downloaded_packages\n",
      "package 'fpc' successfully unpacked and MD5 sums checked\n",
      "\n",
      "The downloaded binary packages are in\n",
      "\tC:\\Users\\duzzi\\AppData\\Local\\Temp\\RtmpCAFaau\\downloaded_packages\n",
      "\n",
      "  There is a binary version available but the source version is later:\n",
      "            binary source needs_compilation\n",
      "clustertend    1.5    1.6             FALSE\n",
      "\n"
     ]
    },
    {
     "name": "stderr",
     "output_type": "stream",
     "text": [
      "installing the source package 'clustertend'\n",
      "\n"
     ]
    },
    {
     "name": "stdout",
     "output_type": "stream",
     "text": [
      "package 'cluster' successfully unpacked and MD5 sums checked\n",
      "\n",
      "The downloaded binary packages are in\n",
      "\tC:\\Users\\duzzi\\AppData\\Local\\Temp\\RtmpCAFaau\\downloaded_packages\n",
      "\n",
      "  There is a binary version available but the source version is later:\n",
      "         binary source needs_compilation\n",
      "ClusterR  1.2.4  1.2.6              TRUE\n",
      "\n",
      "  Binaries will be installed\n",
      "package 'ClusterR' successfully unpacked and MD5 sums checked\n",
      "\n",
      "The downloaded binary packages are in\n",
      "\tC:\\Users\\duzzi\\AppData\\Local\\Temp\\RtmpCAFaau\\downloaded_packages\n"
     ]
    },
    {
     "name": "stderr",
     "output_type": "stream",
     "text": [
      "also installing the dependencies 'xfun', 'tinytex', 'knitr', 'rmarkdown', 'jsonlite', 'reprex'\n",
      "\n"
     ]
    },
    {
     "name": "stdout",
     "output_type": "stream",
     "text": [
      "\n",
      "  There are binary versions available but the source versions are later:\n",
      "          binary source needs_compilation\n",
      "xfun        0.22   0.29              TRUE\n",
      "tinytex     0.31   0.37             FALSE\n",
      "knitr       1.33   1.37             FALSE\n",
      "rmarkdown    2.8   2.11             FALSE\n",
      "jsonlite   1.7.2  1.7.3              TRUE\n",
      "reprex     2.0.0  2.0.1             FALSE\n",
      "\n",
      "  Binaries will be installed\n",
      "package 'xfun' successfully unpacked and MD5 sums checked\n",
      "package 'jsonlite' successfully unpacked and MD5 sums checked\n"
     ]
    },
    {
     "name": "stderr",
     "output_type": "stream",
     "text": [
      "Warning message:\n",
      "\"cannot remove prior installation of package 'jsonlite'\"Warning message in file.copy(savedcopy, lib, recursive = TRUE):\n",
      "\"Problem C:\\Users\\duzzi\\anaconda3\\Lib\\R\\library\\00LOCK\\jsonlite\\libs\\x64\\jsonlite.dll nach C:\\Users\\duzzi\\anaconda3\\Lib\\R\\library\\jsonlite\\libs\\x64\\jsonlite.dll zu kopieren: Permission denied\"Warning message:\n",
      "\"restored 'jsonlite'\""
     ]
    },
    {
     "name": "stdout",
     "output_type": "stream",
     "text": [
      "package 'tidyverse' successfully unpacked and MD5 sums checked\n",
      "\n",
      "The downloaded binary packages are in\n",
      "\tC:\\Users\\duzzi\\AppData\\Local\\Temp\\RtmpCAFaau\\downloaded_packages\n"
     ]
    },
    {
     "name": "stderr",
     "output_type": "stream",
     "text": [
      "installing the source packages 'tinytex', 'knitr', 'rmarkdown', 'reprex'\n",
      "\n",
      "Warning message in install.packages(\"tidyverse\"):\n",
      "\"installation of package 'tinytex' had non-zero exit status\"Warning message in install.packages(\"tidyverse\"):\n",
      "\"installation of package 'knitr' had non-zero exit status\"Warning message in install.packages(\"tidyverse\"):\n",
      "\"installation of package 'rmarkdown' had non-zero exit status\"Warning message in install.packages(\"tidyverse\"):\n",
      "\"installation of package 'reprex' had non-zero exit status\""
     ]
    },
    {
     "name": "stdout",
     "output_type": "stream",
     "text": [
      "\n",
      "  There is a binary version available but the source version is later:\n",
      "           binary source needs_compilation\n",
      "dendextend 1.15.1 1.15.2             FALSE\n",
      "\n"
     ]
    },
    {
     "name": "stderr",
     "output_type": "stream",
     "text": [
      "installing the source package 'dendextend'\n",
      "\n",
      "Warning message:\n",
      "\"package 'factoextra' was built under R version 3.6.3\"Loading required package: ggplot2\n",
      "\n",
      "Attaching package: 'ggplot2'\n",
      "\n",
      "The following objects are masked from 'package:psych':\n",
      "\n",
      "    %+%, alpha\n",
      "\n",
      "Welcome! Want to learn more? See two factoextra-related books at https://goo.gl/ve3WBa\n",
      "Warning message:\n",
      "\"package 'flexclust' was built under R version 3.6.3\"Loading required package: grid\n",
      "Loading required package: lattice\n",
      "Warning message:\n",
      "\"package 'lattice' was built under R version 3.6.3\"Loading required package: modeltools\n",
      "Warning message:\n",
      "\"package 'modeltools' was built under R version 3.6.3\"Loading required package: stats4\n",
      "Warning message:\n",
      "\"package 'fpc' was built under R version 3.6.3\"Package `clustertend` is deprecated.  Use package `hopkins` instead.\n",
      "Warning message:\n",
      "\"package 'cluster' was built under R version 3.6.3\"Warning message:\n",
      "\"package 'ClusterR' was built under R version 3.6.3\"Loading required package: gtools\n",
      "Warning message:\n",
      "\"package 'gtools' was built under R version 3.6.3\"\n",
      "Attaching package: 'gtools'\n",
      "\n",
      "The following object is masked from 'package:psych':\n",
      "\n",
      "    logit\n",
      "\n",
      "Warning message:\n",
      "\"package 'tidyverse' was built under R version 3.6.3\""
     ]
    },
    {
     "ename": "ERROR",
     "evalue": "Error: package or namespace load failed for 'tidyverse' in loadNamespace(j <- i[[1L]], c(lib.loc, .libPaths()), versionCheck = vI[[j]]):\n namespace 'jsonlite' 1.6 is already loaded, but >= 1.7.2 is required\n",
     "output_type": "error",
     "traceback": [
      "Error: package or namespace load failed for 'tidyverse' in loadNamespace(j <- i[[1L]], c(lib.loc, .libPaths()), versionCheck = vI[[j]]):\n namespace 'jsonlite' 1.6 is already loaded, but >= 1.7.2 is required\nTraceback:\n",
      "1. library(tidyverse)",
      "2. tryCatch({\n .     attr(package, \"LibPath\") <- which.lib.loc\n .     ns <- loadNamespace(package, lib.loc)\n .     env <- attachNamespace(ns, pos = pos, deps, exclude, include.only)\n . }, error = function(e) {\n .     P <- if (!is.null(cc <- conditionCall(e))) \n .         paste(\" in\", deparse(cc)[1L])\n .     else \"\"\n .     msg <- gettextf(\"package or namespace load failed for %s%s:\\n %s\", \n .         sQuote(package), P, conditionMessage(e))\n .     if (logical.return) \n .         message(paste(\"Error:\", msg), domain = NA)\n .     else stop(msg, call. = FALSE, domain = NA)\n . })",
      "3. tryCatchList(expr, classes, parentenv, handlers)",
      "4. tryCatchOne(expr, names, parentenv, handlers[[1L]])",
      "5. value[[3L]](cond)",
      "6. stop(msg, call. = FALSE, domain = NA)"
     ]
    }
   ],
   "source": [
    "# install the packages\n",
    "install.packages(\"factoextra\")\n",
    "install.packages(\"flexclust\")\n",
    "install.packages(\"fpc\")\n",
    "install.packages(\"clustertend\")\n",
    "install.packages(\"cluster\")\n",
    "install.packages(\"ClusterR\")\n",
    "install.packages(\"tidyverse\")\n",
    "install.packages(\"dendextend\")\n",
    "library(factoextra)\n",
    "library(flexclust)\n",
    "library(fpc)\n",
    "library(clustertend)\n",
    "library(cluster)\n",
    "library(ClusterR)\n",
    "library(tidyverse)\n",
    "library(dendextend)"
   ]
  },
  {
   "cell_type": "code",
   "execution_count": 50,
   "id": "36135f97-03a9-4845-ab85-9016f59f6989",
   "metadata": {},
   "outputs": [
    {
     "name": "stdout",
     "output_type": "stream",
     "text": [
      "[1] \"12.6760563380282 %\" \"4.22535211267606 %\" \"5.63380281690141 %\"\n",
      "[4] \"5.63380281690141 %\" \"71.830985915493 %\" \n"
     ]
    },
    {
     "data": {
      "image/png": "[encoded data removed]",
      "text/plain": [
       "plot without title"
      ]
     },
     "metadata": {},
     "output_type": "display_data"
    }
   ],
   "source": [
    "# kmeans\n",
    "cluster_kmeans<-eclust(df_adj_z, \"kmeans\", k= 5) \n",
    "print(paste(cluster_kmeans$size/sum(cluster_kmeans$size)*100,\"%\"))\n",
    "# pam\n",
    "#cluster_pam<-eclust(df_adj_z, \"pam\", k= 5) \n",
    "# clara\n",
    "#cluster_clara<-eclust(df_adj_z, \"clara\", k=5)\n"
   ]
  },
  {
   "cell_type": "code",
   "execution_count": 44,
   "id": "708eccfc-10e6-448f-991d-df0b2befa88c",
   "metadata": {},
   "outputs": [
    {
     "name": "stdout",
     "output_type": "stream",
     "text": [
      "package 'NbClust' successfully unpacked and MD5 sums checked\n",
      "\n",
      "The downloaded binary packages are in\n",
      "\tC:\\Users\\duzzi\\AppData\\Local\\Temp\\RtmpCAFaau\\downloaded_packages\n"
     ]
    },
    {
     "data": {
      "text/plain": [
       "Documentation for package 'NbClust'\n",
       "\n",
       "\n",
       "\t\tInformation on package 'NbClust'\n",
       "\n",
       "Description:\n",
       "\n",
       "Package:            NbClust\n",
       "Type:               Package\n",
       "Title:              Determining the Best Number of Clusters in a Data\n",
       "                    Set\n",
       "Version:            3.0\n",
       "Depends:            R (>= 3.1.0)\n",
       "Date:               2015-04-13\n",
       "Author:             Malika Charrad and Nadia Ghazzali and Veronique\n",
       "                    Boiteau and Azam Niknafs\n",
       "Maintainer:         Malika Charrad <malika.charrad.1@ulaval.ca>\n",
       "Description:        It provides 30 indexes for determining the optimal\n",
       "                    number of clusters in a data set and offers the\n",
       "                    best clustering scheme from different results to\n",
       "                    the user.\n",
       "URL:                https://sites.google.com/site/malikacharrad/research/nbclust-package\n",
       "License:            GPL-2\n",
       "Packaged:           2015-04-13 13:57:52 UTC; toshiba\n",
       "NeedsCompilation:   no\n",
       "Repository:         CRAN\n",
       "Date/Publication:   2015-04-13 22:54:43\n",
       "Built:              R 3.6.0; ; 2019-05-28 20:59:10 UTC; windows\n",
       "\n",
       "Index:\n",
       "\n",
       "NbClust                 NbClust Package for determining the best number\n",
       "                        of clusters"
      ]
     },
     "metadata": {},
     "output_type": "display_data"
    }
   ],
   "source": [
    "# optimal number of clusters\n",
    "install.packages(\"NbClust\")\n",
    "library(NbClust)\n",
    "library(help=\"NbClust\") # only one function in a package"
   ]
  },
  {
   "cell_type": "code",
   "execution_count": 45,
   "id": "48399a1c-6099-4330-9086-f22ae1d6982d",
   "metadata": {},
   "outputs": [
    {
     "data": {
      "image/png": "[encoded data removed]",
      "text/plain": [
       "plot without title"
      ]
     },
     "metadata": {},
     "output_type": "display_data"
    },
    {
     "data": {
      "image/png": "[encoded data removed]",
      "text/plain": [
       "plot without title"
      ]
     },
     "metadata": {},
     "output_type": "display_data"
    },
    {
     "name": "stdin",
     "output_type": "stream",
     "text": [
      "Based on the plot give the number of clusters (greater than 1) that you consider optimal?  5\n"
     ]
    },
    {
     "name": "stdout",
     "output_type": "stream",
     "text": [
      "  \n"
     ]
    },
    {
     "data": {
      "text/html": [
       "'list'"
      ],
      "text/latex": [
       "'list'"
      ],
      "text/markdown": [
       "'list'"
      ],
      "text/plain": [
       "[1] \"list\""
      ]
     },
     "metadata": {},
     "output_type": "display_data"
    },
    {
     "data": {
      "text/plain": [
       "$pamobject\n",
       "Medoids:\n",
       "     ID Income.Before.Tax  Net.Income Selling.General.Administrative\n",
       "[1,]  1        1.08737842  1.09895952                      0.9696150\n",
       "[2,] 26       -0.30257867 -0.31000015                     -0.2356476\n",
       "[3,] 19        0.07798567  0.07556976                      1.7670822\n",
       "     Gross.Profit        Ebit Operating.Income Interest.Expense\n",
       "[1,]     1.092601  1.06470089       1.06470089     -0.005349753\n",
       "[2,]    -0.440076 -0.42722409      -0.42722409      0.518222746\n",
       "[3,]     1.497821 -0.07986351      -0.07986351     -0.311745486\n",
       "     Income.Tax.Expense Total.Revenue Total.Operating.Expenses Cost.Of.Revenue\n",
       "[1,]          1.0295544     0.4700932                0.3448255       0.1824073\n",
       "[2,]         -0.2153287    -0.4691625               -0.4378962      -0.4187007\n",
       "[3,]          0.1445789     3.3810307                3.6217937       3.6263683\n",
       "     Total.Other.Income.Expense.Net Net.Income.From.Continuing.Ops\n",
       "[1,]                     0.09011516                     1.07664216\n",
       "[2,]                     0.30172873                    -0.31726451\n",
       "[3,]                     0.39632221                     0.05964646\n",
       "     Net.Income.Applicable.To.Common.Shares\n",
       "[1,]                             1.11004370\n",
       "[2,]                            -0.30832873\n",
       "[3,]                             0.07981704\n",
       "Clustering vector:\n",
       " [1] 1 2 1 1 2 3 2 1 2 2 2 2 2 2 2 3 2 2 3 1 2 2 2 2 1 2 1 2 2 2 2 2 2 2 2 2 2 1\n",
       "[39] 3 2 1 2 2 1 2 2 2 2 2 2 1 2 2 1 2 2 2 2 2 2 2 2 2 2 2 2 2 2 1 2 2\n",
       "Objective function:\n",
       "   build     swap \n",
       "1.815548 1.792112 \n",
       "\n",
       "Available components:\n",
       " [1] \"medoids\"    \"id.med\"     \"clustering\" \"objective\"  \"isolation\" \n",
       " [6] \"clusinfo\"   \"silinfo\"    \"diss\"       \"call\"       \"data\"      \n",
       "\n",
       "$nc\n",
       "[1] 3\n",
       "\n",
       "$crit\n",
       " [1] 0.0000000 0.5525802 0.5654407 0.2661092 0.2620051 0.3126942 0.3148613\n",
       " [8] 0.3065016 0.3124658 0.3139106\n"
      ]
     },
     "metadata": {},
     "output_type": "display_data"
    },
    {
     "data": {
      "image/png": "[encoded data removed]",
      "text/plain": [
       "plot without title"
      ]
     },
     "metadata": {},
     "output_type": "display_data"
    }
   ],
   "source": [
    "# opt1<-NbClust(df_adj_z, distance=\"euclidean\", min.nc=2, max.nc=8, method=\"complete\", index=\"ch\")\n",
    "# opt1 # it chooses the best partition\n",
    "# opt1$All.index\n",
    "# opt1$Best.nc\n",
    "# opt1$Best.partition\n",
    "\n",
    "# optimal number of clusters, another criteria\n",
    "opt2<-Optimal_Clusters_KMeans(df_adj_z, max_clusters=10, plot_clusters = TRUE)\n",
    "opt2<-Optimal_Clusters_KMeans(df_adj_z, max_clusters=10, plot_clusters=TRUE, criterion=\"silhouette\")\n",
    "opt2<-Optimal_Clusters_KMeans(df_adj_z, max_clusters=10, plot_clusters=TRUE, criterion=\"AIC\")\n",
    "\n",
    "# another approach, decision based on a plot\n",
    "opt3<-Optimal_Clusters_Medoids(df_adj_z, 10, 'euclidean', plot_clusters=TRUE)\n",
    "\n",
    "# automatic selection, average silhouette width\n",
    "opt_aut<-pamk(df_adj_z, krange=2:10, criterion=\"asw\", usepam=TRUE, scaling=FALSE, alpha=0.001, diss=inherits(df_adj_z, \"dist\"), critout=FALSE) # fpc::pamk()\n",
    "class(opt_aut)\n",
    "opt_aut"
   ]
  },
  {
   "cell_type": "code",
   "execution_count": 46,
   "id": "937098e2-fde0-471f-b191-5d6bdd371e07",
   "metadata": {},
   "outputs": [
    {
     "name": "stdout",
     "output_type": "stream",
     "text": [
      "number of clusters estimated by optimum average silhouette width: 3 \n"
     ]
    },
    {
     "data": {
      "image/png": "[encoded data removed]",
      "text/plain": [
       "Plot with title \"clusplot(pam(x = df_adj_z, k = opt_aut$nc))\""
      ]
     },
     "metadata": {},
     "output_type": "display_data"
    },
    {
     "data": {
      "image/png": "[encoded data removed]",
      "text/plain": [
       "Plot with title \"Silhouette plot of pam(x = df_adj_z, k = opt_aut$nc)\""
      ]
     },
     "metadata": {},
     "output_type": "display_data"
    }
   ],
   "source": [
    "# announcement and plot\n",
    "cat(\"number of clusters estimated by optimum average silhouette width:\", opt_aut$nc, \"\\n\")\n",
    "plot(pam(df_adj_z, opt_aut$nc))"
   ]
  },
  {
   "cell_type": "code",
   "execution_count": 74,
   "id": "5145331c-8969-4d1b-9cd9-f807e2ba9b4a",
   "metadata": {},
   "outputs": [
    {
     "name": "stderr",
     "output_type": "stream",
     "text": [
      "Warning message:\n",
      "\"Package `clustertend` is deprecated.  Use package `hopkins` instead.\""
     ]
    },
    {
     "data": {
      "text/html": [
       "<strong>$H</strong> = 0.14623123393646"
      ],
      "text/latex": [
       "\\textbf{\\$H} = 0.14623123393646"
      ],
      "text/markdown": [
       "**$H** = 0.14623123393646"
      ],
      "text/plain": [
       "$H\n",
       "[1] 0.1462312\n"
      ]
     },
     "metadata": {},
     "output_type": "display_data"
    },
    {
     "data": {
      "text/plain": [
       "$hopkins_stat\n",
       "[1] 0.8861252\n",
       "\n",
       "$plot\n"
      ]
     },
     "metadata": {},
     "output_type": "display_data"
    },
    {
     "data": {
      "image/png": "[encoded data removed]",
      "text/plain": [
       "plot without title"
      ]
     },
     "metadata": {},
     "output_type": "display_data"
    }
   ],
   "source": [
    "# Hopkins stat\n",
    "hopkins(df_adj_z, n=nrow(df_adj_z)-1) \n",
    "\n",
    "get_clust_tendency(df_adj_z, 2, graph=TRUE, gradient=list(low=\"red\", mid=\"white\", high=\"blue\"), seed = 123) # factoextra:: #interpretation as in table"
   ]
  },
  {
   "cell_type": "code",
   "execution_count": 75,
   "id": "64e452e5-15f7-41ad-bc25-920cc93f8ad9",
   "metadata": {},
   "outputs": [
    {
     "data": {
      "text/html": [
       "<dl>\n",
       "\t<dt>$n</dt>\n",
       "\t\t<dd>71</dd>\n",
       "\t<dt>$cluster.number</dt>\n",
       "\t\t<dd>2</dd>\n",
       "\t<dt>$cluster.size</dt>\n",
       "\t\t<dd><ol class=list-inline>\n",
       "\t<li>68</li>\n",
       "\t<li>3</li>\n",
       "</ol>\n",
       "</dd>\n",
       "\t<dt>$min.cluster.size</dt>\n",
       "\t\t<dd>3</dd>\n",
       "\t<dt>$noisen</dt>\n",
       "\t\t<dd>0</dd>\n",
       "\t<dt>$diameter</dt>\n",
       "\t\t<dd><ol class=list-inline>\n",
       "\t<li>14.3680381439433</li>\n",
       "\t<li>9.31398892935876</li>\n",
       "</ol>\n",
       "</dd>\n",
       "\t<dt>$average.distance</dt>\n",
       "\t\t<dd><ol class=list-inline>\n",
       "\t<li>3.29575535632317</li>\n",
       "\t<li>7.96399643525769</li>\n",
       "</ol>\n",
       "</dd>\n",
       "\t<dt>$median.distance</dt>\n",
       "\t\t<dd><ol class=list-inline>\n",
       "\t<li>2.17074298008388</li>\n",
       "\t<li>8.86702902764594</li>\n",
       "</ol>\n",
       "</dd>\n",
       "\t<dt>$separation</dt>\n",
       "\t\t<dd><ol class=list-inline>\n",
       "\t<li>5.04647209986356</li>\n",
       "\t<li>5.04647209986356</li>\n",
       "</ol>\n",
       "</dd>\n",
       "\t<dt>$average.toother</dt>\n",
       "\t\t<dd><ol class=list-inline>\n",
       "\t<li>11.7617475646409</li>\n",
       "\t<li>11.7617475646409</li>\n",
       "</ol>\n",
       "</dd>\n",
       "\t<dt>$separation.matrix</dt>\n",
       "\t\t<dd><table>\n",
       "<tbody>\n",
       "\t<tr><td>0.000000</td><td>5.046472</td></tr>\n",
       "\t<tr><td>5.046472</td><td>0.000000</td></tr>\n",
       "</tbody>\n",
       "</table>\n",
       "</dd>\n",
       "\t<dt>$ave.between.matrix</dt>\n",
       "\t\t<dd><table>\n",
       "<tbody>\n",
       "\t<tr><td> 0.00000</td><td>11.76175</td></tr>\n",
       "\t<tr><td>11.76175</td><td> 0.00000</td></tr>\n",
       "</tbody>\n",
       "</table>\n",
       "</dd>\n",
       "\t<dt>$average.between</dt>\n",
       "\t\t<dd>11.7617475646409</dd>\n",
       "\t<dt>$average.within</dt>\n",
       "\t\t<dd>3.49300497937674</dd>\n",
       "\t<dt>$n.between</dt>\n",
       "\t\t<dd>204</dd>\n",
       "\t<dt>$n.within</dt>\n",
       "\t\t<dd>2281</dd>\n",
       "\t<dt>$max.diameter</dt>\n",
       "\t\t<dd>14.3680381439433</dd>\n",
       "\t<dt>$min.separation</dt>\n",
       "\t\t<dd>5.04647209986356</dd>\n",
       "\t<dt>$within.cluster.ss</dt>\n",
       "\t\t<dd>658.618976319022</dd>\n",
       "\t<dt>$clus.avg.silwidths</dt>\n",
       "\t\t<dd><dl class=dl-horizontal>\n",
       "\t<dt>1</dt>\n",
       "\t\t<dd>0.699972813674008</dd>\n",
       "\t<dt>2</dt>\n",
       "\t\t<dd>0.313889002206223</dd>\n",
       "</dl>\n",
       "</dd>\n",
       "\t<dt>$avg.silwidth</dt>\n",
       "\t\t<dd>0.683659413189454</dd>\n",
       "\t<dt>$g2</dt>\n",
       "\t\t<dd>NULL</dd>\n",
       "\t<dt>$g3</dt>\n",
       "\t\t<dd>NULL</dd>\n",
       "\t<dt>$pearsongamma</dt>\n",
       "\t\t<dd>0.669578012989485</dd>\n",
       "\t<dt>$dunn</dt>\n",
       "\t\t<dd>0.35122902996961</dd>\n",
       "\t<dt>$dunn2</dt>\n",
       "\t\t<dd>1.47686499614315</dd>\n",
       "\t<dt>$entropy</dt>\n",
       "\t\t<dd>0.17504099228104</dd>\n",
       "\t<dt>$wb.ratio</dt>\n",
       "\t\t<dd>0.296980100973913</dd>\n",
       "\t<dt>$ch</dt>\n",
       "\t\t<dd>33.6693770318064</dd>\n",
       "\t<dt>$cwidegap</dt>\n",
       "\t\t<dd><ol class=list-inline>\n",
       "\t<li>4.78540048173027</li>\n",
       "\t<li>8.86702902764594</li>\n",
       "</ol>\n",
       "</dd>\n",
       "\t<dt>$widestgap</dt>\n",
       "\t\t<dd>8.86702902764594</dd>\n",
       "\t<dt>$sindex</dt>\n",
       "\t\t<dd>5.64589830615061</dd>\n",
       "\t<dt>$corrected.rand</dt>\n",
       "\t\t<dd>NULL</dd>\n",
       "\t<dt>$vi</dt>\n",
       "\t\t<dd>NULL</dd>\n",
       "</dl>\n"
      ],
      "text/latex": [
       "\\begin{description}\n",
       "\\item[\\$n] 71\n",
       "\\item[\\$cluster.number] 2\n",
       "\\item[\\$cluster.size] \\begin{enumerate*}\n",
       "\\item 68\n",
       "\\item 3\n",
       "\\end{enumerate*}\n",
       "\n",
       "\\item[\\$min.cluster.size] 3\n",
       "\\item[\\$noisen] 0\n",
       "\\item[\\$diameter] \\begin{enumerate*}\n",
       "\\item 14.3680381439433\n",
       "\\item 9.31398892935876\n",
       "\\end{enumerate*}\n",
       "\n",
       "\\item[\\$average.distance] \\begin{enumerate*}\n",
       "\\item 3.29575535632317\n",
       "\\item 7.96399643525769\n",
       "\\end{enumerate*}\n",
       "\n",
       "\\item[\\$median.distance] \\begin{enumerate*}\n",
       "\\item 2.17074298008388\n",
       "\\item 8.86702902764594\n",
       "\\end{enumerate*}\n",
       "\n",
       "\\item[\\$separation] \\begin{enumerate*}\n",
       "\\item 5.04647209986356\n",
       "\\item 5.04647209986356\n",
       "\\end{enumerate*}\n",
       "\n",
       "\\item[\\$average.toother] \\begin{enumerate*}\n",
       "\\item 11.7617475646409\n",
       "\\item 11.7617475646409\n",
       "\\end{enumerate*}\n",
       "\n",
       "\\item[\\$separation.matrix] \\begin{tabular}{ll}\n",
       "\t 0.000000 & 5.046472\\\\\n",
       "\t 5.046472 & 0.000000\\\\\n",
       "\\end{tabular}\n",
       "\n",
       "\\item[\\$ave.between.matrix] \\begin{tabular}{ll}\n",
       "\t  0.00000 & 11.76175\\\\\n",
       "\t 11.76175 &  0.00000\\\\\n",
       "\\end{tabular}\n",
       "\n",
       "\\item[\\$average.between] 11.7617475646409\n",
       "\\item[\\$average.within] 3.49300497937674\n",
       "\\item[\\$n.between] 204\n",
       "\\item[\\$n.within] 2281\n",
       "\\item[\\$max.diameter] 14.3680381439433\n",
       "\\item[\\$min.separation] 5.04647209986356\n",
       "\\item[\\$within.cluster.ss] 658.618976319022\n",
       "\\item[\\$clus.avg.silwidths] \\begin{description*}\n",
       "\\item[1] 0.699972813674008\n",
       "\\item[2] 0.313889002206223\n",
       "\\end{description*}\n",
       "\n",
       "\\item[\\$avg.silwidth] 0.683659413189454\n",
       "\\item[\\$g2] NULL\n",
       "\\item[\\$g3] NULL\n",
       "\\item[\\$pearsongamma] 0.669578012989485\n",
       "\\item[\\$dunn] 0.35122902996961\n",
       "\\item[\\$dunn2] 1.47686499614315\n",
       "\\item[\\$entropy] 0.17504099228104\n",
       "\\item[\\$wb.ratio] 0.296980100973913\n",
       "\\item[\\$ch] 33.6693770318064\n",
       "\\item[\\$cwidegap] \\begin{enumerate*}\n",
       "\\item 4.78540048173027\n",
       "\\item 8.86702902764594\n",
       "\\end{enumerate*}\n",
       "\n",
       "\\item[\\$widestgap] 8.86702902764594\n",
       "\\item[\\$sindex] 5.64589830615061\n",
       "\\item[\\$corrected.rand] NULL\n",
       "\\item[\\$vi] NULL\n",
       "\\end{description}\n"
      ],
      "text/markdown": [
       "$n\n",
       ":   71\n",
       "$cluster.number\n",
       ":   2\n",
       "$cluster.size\n",
       ":   1. 68\n",
       "2. 3\n",
       "\n",
       "\n",
       "\n",
       "$min.cluster.size\n",
       ":   3\n",
       "$noisen\n",
       ":   0\n",
       "$diameter\n",
       ":   1. 14.3680381439433\n",
       "2. 9.31398892935876\n",
       "\n",
       "\n",
       "\n",
       "$average.distance\n",
       ":   1. 3.29575535632317\n",
       "2. 7.96399643525769\n",
       "\n",
       "\n",
       "\n",
       "$median.distance\n",
       ":   1. 2.17074298008388\n",
       "2. 8.86702902764594\n",
       "\n",
       "\n",
       "\n",
       "$separation\n",
       ":   1. 5.04647209986356\n",
       "2. 5.04647209986356\n",
       "\n",
       "\n",
       "\n",
       "$average.toother\n",
       ":   1. 11.7617475646409\n",
       "2. 11.7617475646409\n",
       "\n",
       "\n",
       "\n",
       "$separation.matrix\n",
       ":   \n",
       "| 0.000000 | 5.046472 |\n",
       "| 5.046472 | 0.000000 |\n",
       "\n",
       "\n",
       "$ave.between.matrix\n",
       ":   \n",
       "|  0.00000 | 11.76175 |\n",
       "| 11.76175 |  0.00000 |\n",
       "\n",
       "\n",
       "$average.between\n",
       ":   11.7617475646409\n",
       "$average.within\n",
       ":   3.49300497937674\n",
       "$n.between\n",
       ":   204\n",
       "$n.within\n",
       ":   2281\n",
       "$max.diameter\n",
       ":   14.3680381439433\n",
       "$min.separation\n",
       ":   5.04647209986356\n",
       "$within.cluster.ss\n",
       ":   658.618976319022\n",
       "$clus.avg.silwidths\n",
       ":   1\n",
       ":   0.6999728136740082\n",
       ":   0.313889002206223\n",
       "\n",
       "\n",
       "$avg.silwidth\n",
       ":   0.683659413189454\n",
       "$g2\n",
       ":   NULL\n",
       "$g3\n",
       ":   NULL\n",
       "$pearsongamma\n",
       ":   0.669578012989485\n",
       "$dunn\n",
       ":   0.35122902996961\n",
       "$dunn2\n",
       ":   1.47686499614315\n",
       "$entropy\n",
       ":   0.17504099228104\n",
       "$wb.ratio\n",
       ":   0.296980100973913\n",
       "$ch\n",
       ":   33.6693770318064\n",
       "$cwidegap\n",
       ":   1. 4.78540048173027\n",
       "2. 8.86702902764594\n",
       "\n",
       "\n",
       "\n",
       "$widestgap\n",
       ":   8.86702902764594\n",
       "$sindex\n",
       ":   5.64589830615061\n",
       "$corrected.rand\n",
       ":   NULL\n",
       "$vi\n",
       ":   NULL\n",
       "\n",
       "\n"
      ],
      "text/plain": [
       "$n\n",
       "[1] 71\n",
       "\n",
       "$cluster.number\n",
       "[1] 2\n",
       "\n",
       "$cluster.size\n",
       "[1] 68  3\n",
       "\n",
       "$min.cluster.size\n",
       "[1] 3\n",
       "\n",
       "$noisen\n",
       "[1] 0\n",
       "\n",
       "$diameter\n",
       "[1] 14.368038  9.313989\n",
       "\n",
       "$average.distance\n",
       "[1] 3.295755 7.963996\n",
       "\n",
       "$median.distance\n",
       "[1] 2.170743 8.867029\n",
       "\n",
       "$separation\n",
       "[1] 5.046472 5.046472\n",
       "\n",
       "$average.toother\n",
       "[1] 11.76175 11.76175\n",
       "\n",
       "$separation.matrix\n",
       "         [,1]     [,2]\n",
       "[1,] 0.000000 5.046472\n",
       "[2,] 5.046472 0.000000\n",
       "\n",
       "$ave.between.matrix\n",
       "         [,1]     [,2]\n",
       "[1,]  0.00000 11.76175\n",
       "[2,] 11.76175  0.00000\n",
       "\n",
       "$average.between\n",
       "[1] 11.76175\n",
       "\n",
       "$average.within\n",
       "[1] 3.493005\n",
       "\n",
       "$n.between\n",
       "[1] 204\n",
       "\n",
       "$n.within\n",
       "[1] 2281\n",
       "\n",
       "$max.diameter\n",
       "[1] 14.36804\n",
       "\n",
       "$min.separation\n",
       "[1] 5.046472\n",
       "\n",
       "$within.cluster.ss\n",
       "[1] 658.619\n",
       "\n",
       "$clus.avg.silwidths\n",
       "        1         2 \n",
       "0.6999728 0.3138890 \n",
       "\n",
       "$avg.silwidth\n",
       "[1] 0.6836594\n",
       "\n",
       "$g2\n",
       "NULL\n",
       "\n",
       "$g3\n",
       "NULL\n",
       "\n",
       "$pearsongamma\n",
       "[1] 0.669578\n",
       "\n",
       "$dunn\n",
       "[1] 0.351229\n",
       "\n",
       "$dunn2\n",
       "[1] 1.476865\n",
       "\n",
       "$entropy\n",
       "[1] 0.175041\n",
       "\n",
       "$wb.ratio\n",
       "[1] 0.2969801\n",
       "\n",
       "$ch\n",
       "[1] 33.66938\n",
       "\n",
       "$cwidegap\n",
       "[1] 4.785400 8.867029\n",
       "\n",
       "$widestgap\n",
       "[1] 8.867029\n",
       "\n",
       "$sindex\n",
       "[1] 5.645898\n",
       "\n",
       "$corrected.rand\n",
       "NULL\n",
       "\n",
       "$vi\n",
       "NULL\n"
      ]
     },
     "metadata": {},
     "output_type": "display_data"
    },
    {
     "data": {
      "text/html": [
       "<dl>\n",
       "\t<dt>$n</dt>\n",
       "\t\t<dd>71</dd>\n",
       "\t<dt>$cluster.number</dt>\n",
       "\t\t<dd>4</dd>\n",
       "\t<dt>$cluster.size</dt>\n",
       "\t\t<dd><ol class=list-inline>\n",
       "\t<li>61</li>\n",
       "\t<li>3</li>\n",
       "\t<li>3</li>\n",
       "\t<li>4</li>\n",
       "</ol>\n",
       "</dd>\n",
       "\t<dt>$min.cluster.size</dt>\n",
       "\t\t<dd>3</dd>\n",
       "\t<dt>$noisen</dt>\n",
       "\t\t<dd>0</dd>\n",
       "\t<dt>$diameter</dt>\n",
       "\t\t<dd><ol class=list-inline>\n",
       "\t<li>8.16337359872593</li>\n",
       "\t<li>6.59730950122731</li>\n",
       "\t<li>9.31398892935876</li>\n",
       "\t<li>6.13417097005855</li>\n",
       "</ol>\n",
       "</dd>\n",
       "\t<dt>$average.distance</dt>\n",
       "\t\t<dd><ol class=list-inline>\n",
       "\t<li>2.50388870189723</li>\n",
       "\t<li>5.13585309876604</li>\n",
       "\t<li>7.96399643525769</li>\n",
       "\t<li>4.40158909192739</li>\n",
       "</ol>\n",
       "</dd>\n",
       "\t<dt>$median.distance</dt>\n",
       "\t\t<dd><ol class=list-inline>\n",
       "\t<li>1.65399456026105</li>\n",
       "\t<li>6.23920442452703</li>\n",
       "\t<li>8.86702902764594</li>\n",
       "\t<li>3.98822075044424</li>\n",
       "</ol>\n",
       "</dd>\n",
       "\t<dt>$separation</dt>\n",
       "\t\t<dd><ol class=list-inline>\n",
       "\t<li>1.514212297421</li>\n",
       "\t<li>2.3786752393231</li>\n",
       "\t<li>5.04647209986356</li>\n",
       "\t<li>1.514212297421</li>\n",
       "</ol>\n",
       "</dd>\n",
       "\t<dt>$average.toother</dt>\n",
       "\t\t<dd><ol class=list-inline>\n",
       "\t<li>8.04315173927983</li>\n",
       "\t<li>7.62667411340712</li>\n",
       "\t<li>11.7617475646409</li>\n",
       "\t<li>6.36129473828276</li>\n",
       "</ol>\n",
       "</dd>\n",
       "\t<dt>$separation.matrix</dt>\n",
       "\t\t<dd><table>\n",
       "<tbody>\n",
       "\t<tr><td>0.000000 </td><td>2.378675 </td><td> 5.581892</td><td> 1.514212</td></tr>\n",
       "\t<tr><td>2.378675 </td><td>0.000000 </td><td> 5.046472</td><td> 8.481921</td></tr>\n",
       "\t<tr><td>5.581892 </td><td>5.046472 </td><td> 0.000000</td><td>12.531709</td></tr>\n",
       "\t<tr><td>1.514212 </td><td>8.481921 </td><td>12.531709</td><td> 0.000000</td></tr>\n",
       "</tbody>\n",
       "</table>\n",
       "</dd>\n",
       "\t<dt>$ave.between.matrix</dt>\n",
       "\t\t<dd><table>\n",
       "<tbody>\n",
       "\t<tr><td> 0.000000</td><td> 7.430732</td><td>11.757003</td><td> 5.717078</td></tr>\n",
       "\t<tr><td> 7.430732</td><td> 0.000000</td><td> 7.445687</td><td>10.750527</td></tr>\n",
       "\t<tr><td>11.757003</td><td> 7.445687</td><td> 0.000000</td><td>15.071143</td></tr>\n",
       "\t<tr><td> 5.717078</td><td>10.750527</td><td>15.071143</td><td> 0.000000</td></tr>\n",
       "</tbody>\n",
       "</table>\n",
       "</dd>\n",
       "\t<dt>$average.between</dt>\n",
       "\t\t<dd>8.21647556231903</dd>\n",
       "\t<dt>$average.within</dt>\n",
       "\t\t<dd>2.95271994064101</dd>\n",
       "\t<dt>$n.between</dt>\n",
       "\t\t<dd>643</dd>\n",
       "\t<dt>$n.within</dt>\n",
       "\t\t<dd>1842</dd>\n",
       "\t<dt>$max.diameter</dt>\n",
       "\t\t<dd>9.31398892935876</dd>\n",
       "\t<dt>$min.separation</dt>\n",
       "\t\t<dd>1.514212297421</dd>\n",
       "\t<dt>$within.cluster.ss</dt>\n",
       "\t\t<dd>437.569742290027</dd>\n",
       "\t<dt>$clus.avg.silwidths</dt>\n",
       "\t\t<dd><dl class=dl-horizontal>\n",
       "\t<dt>1</dt>\n",
       "\t\t<dd>0.536469021700673</dd>\n",
       "\t<dt>2</dt>\n",
       "\t\t<dd>0.276255274795161</dd>\n",
       "\t<dt>3</dt>\n",
       "\t\t<dd>-0.067241132616158</dd>\n",
       "\t<dt>4</dt>\n",
       "\t\t<dd>0.172907704497989</dd>\n",
       "</dl>\n",
       "</dd>\n",
       "\t<dt>$avg.silwidth</dt>\n",
       "\t\t<dd>0.479482867158733</dd>\n",
       "\t<dt>$g2</dt>\n",
       "\t\t<dd>NULL</dd>\n",
       "\t<dt>$g3</dt>\n",
       "\t\t<dd>NULL</dd>\n",
       "\t<dt>$pearsongamma</dt>\n",
       "\t\t<dd>0.718901522238896</dd>\n",
       "\t<dt>$dunn</dt>\n",
       "\t\t<dd>0.162573985099771</dd>\n",
       "\t<dt>$dunn2</dt>\n",
       "\t\t<dd>0.717865421216655</dd>\n",
       "\t<dt>$entropy</dt>\n",
       "\t\t<dd>0.559860765899622</dd>\n",
       "\t<dt>$wb.ratio</dt>\n",
       "\t\t<dd>0.359365754604353</dd>\n",
       "\t<dt>$ch</dt>\n",
       "\t\t<dd>27.6853598060106</dd>\n",
       "\t<dt>$cwidegap</dt>\n",
       "\t\t<dd><ol class=list-inline>\n",
       "\t<li>4.33148496665085</li>\n",
       "\t<li>6.23920442452703</li>\n",
       "\t<li>8.86702902764594</li>\n",
       "\t<li>3.84363335681178</li>\n",
       "</ol>\n",
       "</dd>\n",
       "\t<dt>$widestgap</dt>\n",
       "\t\t<dd>8.86702902764594</dd>\n",
       "\t<dt>$sindex</dt>\n",
       "\t\t<dd>1.76980817003448</dd>\n",
       "\t<dt>$corrected.rand</dt>\n",
       "\t\t<dd>NULL</dd>\n",
       "\t<dt>$vi</dt>\n",
       "\t\t<dd>NULL</dd>\n",
       "</dl>\n"
      ],
      "text/latex": [
       "\\begin{description}\n",
       "\\item[\\$n] 71\n",
       "\\item[\\$cluster.number] 4\n",
       "\\item[\\$cluster.size] \\begin{enumerate*}\n",
       "\\item 61\n",
       "\\item 3\n",
       "\\item 3\n",
       "\\item 4\n",
       "\\end{enumerate*}\n",
       "\n",
       "\\item[\\$min.cluster.size] 3\n",
       "\\item[\\$noisen] 0\n",
       "\\item[\\$diameter] \\begin{enumerate*}\n",
       "\\item 8.16337359872593\n",
       "\\item 6.59730950122731\n",
       "\\item 9.31398892935876\n",
       "\\item 6.13417097005855\n",
       "\\end{enumerate*}\n",
       "\n",
       "\\item[\\$average.distance] \\begin{enumerate*}\n",
       "\\item 2.50388870189723\n",
       "\\item 5.13585309876604\n",
       "\\item 7.96399643525769\n",
       "\\item 4.40158909192739\n",
       "\\end{enumerate*}\n",
       "\n",
       "\\item[\\$median.distance] \\begin{enumerate*}\n",
       "\\item 1.65399456026105\n",
       "\\item 6.23920442452703\n",
       "\\item 8.86702902764594\n",
       "\\item 3.98822075044424\n",
       "\\end{enumerate*}\n",
       "\n",
       "\\item[\\$separation] \\begin{enumerate*}\n",
       "\\item 1.514212297421\n",
       "\\item 2.3786752393231\n",
       "\\item 5.04647209986356\n",
       "\\item 1.514212297421\n",
       "\\end{enumerate*}\n",
       "\n",
       "\\item[\\$average.toother] \\begin{enumerate*}\n",
       "\\item 8.04315173927983\n",
       "\\item 7.62667411340712\n",
       "\\item 11.7617475646409\n",
       "\\item 6.36129473828276\n",
       "\\end{enumerate*}\n",
       "\n",
       "\\item[\\$separation.matrix] \\begin{tabular}{llll}\n",
       "\t 0.000000  & 2.378675  &  5.581892 &  1.514212\\\\\n",
       "\t 2.378675  & 0.000000  &  5.046472 &  8.481921\\\\\n",
       "\t 5.581892  & 5.046472  &  0.000000 & 12.531709\\\\\n",
       "\t 1.514212  & 8.481921  & 12.531709 &  0.000000\\\\\n",
       "\\end{tabular}\n",
       "\n",
       "\\item[\\$ave.between.matrix] \\begin{tabular}{llll}\n",
       "\t  0.000000 &  7.430732 & 11.757003 &  5.717078\\\\\n",
       "\t  7.430732 &  0.000000 &  7.445687 & 10.750527\\\\\n",
       "\t 11.757003 &  7.445687 &  0.000000 & 15.071143\\\\\n",
       "\t  5.717078 & 10.750527 & 15.071143 &  0.000000\\\\\n",
       "\\end{tabular}\n",
       "\n",
       "\\item[\\$average.between] 8.21647556231903\n",
       "\\item[\\$average.within] 2.95271994064101\n",
       "\\item[\\$n.between] 643\n",
       "\\item[\\$n.within] 1842\n",
       "\\item[\\$max.diameter] 9.31398892935876\n",
       "\\item[\\$min.separation] 1.514212297421\n",
       "\\item[\\$within.cluster.ss] 437.569742290027\n",
       "\\item[\\$clus.avg.silwidths] \\begin{description*}\n",
       "\\item[1] 0.536469021700673\n",
       "\\item[2] 0.276255274795161\n",
       "\\item[3] -0.067241132616158\n",
       "\\item[4] 0.172907704497989\n",
       "\\end{description*}\n",
       "\n",
       "\\item[\\$avg.silwidth] 0.479482867158733\n",
       "\\item[\\$g2] NULL\n",
       "\\item[\\$g3] NULL\n",
       "\\item[\\$pearsongamma] 0.718901522238896\n",
       "\\item[\\$dunn] 0.162573985099771\n",
       "\\item[\\$dunn2] 0.717865421216655\n",
       "\\item[\\$entropy] 0.559860765899622\n",
       "\\item[\\$wb.ratio] 0.359365754604353\n",
       "\\item[\\$ch] 27.6853598060106\n",
       "\\item[\\$cwidegap] \\begin{enumerate*}\n",
       "\\item 4.33148496665085\n",
       "\\item 6.23920442452703\n",
       "\\item 8.86702902764594\n",
       "\\item 3.84363335681178\n",
       "\\end{enumerate*}\n",
       "\n",
       "\\item[\\$widestgap] 8.86702902764594\n",
       "\\item[\\$sindex] 1.76980817003448\n",
       "\\item[\\$corrected.rand] NULL\n",
       "\\item[\\$vi] NULL\n",
       "\\end{description}\n"
      ],
      "text/markdown": [
       "$n\n",
       ":   71\n",
       "$cluster.number\n",
       ":   4\n",
       "$cluster.size\n",
       ":   1. 61\n",
       "2. 3\n",
       "3. 3\n",
       "4. 4\n",
       "\n",
       "\n",
       "\n",
       "$min.cluster.size\n",
       ":   3\n",
       "$noisen\n",
       ":   0\n",
       "$diameter\n",
       ":   1. 8.16337359872593\n",
       "2. 6.59730950122731\n",
       "3. 9.31398892935876\n",
       "4. 6.13417097005855\n",
       "\n",
       "\n",
       "\n",
       "$average.distance\n",
       ":   1. 2.50388870189723\n",
       "2. 5.13585309876604\n",
       "3. 7.96399643525769\n",
       "4. 4.40158909192739\n",
       "\n",
       "\n",
       "\n",
       "$median.distance\n",
       ":   1. 1.65399456026105\n",
       "2. 6.23920442452703\n",
       "3. 8.86702902764594\n",
       "4. 3.98822075044424\n",
       "\n",
       "\n",
       "\n",
       "$separation\n",
       ":   1. 1.514212297421\n",
       "2. 2.3786752393231\n",
       "3. 5.04647209986356\n",
       "4. 1.514212297421\n",
       "\n",
       "\n",
       "\n",
       "$average.toother\n",
       ":   1. 8.04315173927983\n",
       "2. 7.62667411340712\n",
       "3. 11.7617475646409\n",
       "4. 6.36129473828276\n",
       "\n",
       "\n",
       "\n",
       "$separation.matrix\n",
       ":   \n",
       "| 0.000000  | 2.378675  |  5.581892 |  1.514212 |\n",
       "| 2.378675  | 0.000000  |  5.046472 |  8.481921 |\n",
       "| 5.581892  | 5.046472  |  0.000000 | 12.531709 |\n",
       "| 1.514212  | 8.481921  | 12.531709 |  0.000000 |\n",
       "\n",
       "\n",
       "$ave.between.matrix\n",
       ":   \n",
       "|  0.000000 |  7.430732 | 11.757003 |  5.717078 |\n",
       "|  7.430732 |  0.000000 |  7.445687 | 10.750527 |\n",
       "| 11.757003 |  7.445687 |  0.000000 | 15.071143 |\n",
       "|  5.717078 | 10.750527 | 15.071143 |  0.000000 |\n",
       "\n",
       "\n",
       "$average.between\n",
       ":   8.21647556231903\n",
       "$average.within\n",
       ":   2.95271994064101\n",
       "$n.between\n",
       ":   643\n",
       "$n.within\n",
       ":   1842\n",
       "$max.diameter\n",
       ":   9.31398892935876\n",
       "$min.separation\n",
       ":   1.514212297421\n",
       "$within.cluster.ss\n",
       ":   437.569742290027\n",
       "$clus.avg.silwidths\n",
       ":   1\n",
       ":   0.5364690217006732\n",
       ":   0.2762552747951613\n",
       ":   -0.0672411326161584\n",
       ":   0.172907704497989\n",
       "\n",
       "\n",
       "$avg.silwidth\n",
       ":   0.479482867158733\n",
       "$g2\n",
       ":   NULL\n",
       "$g3\n",
       ":   NULL\n",
       "$pearsongamma\n",
       ":   0.718901522238896\n",
       "$dunn\n",
       ":   0.162573985099771\n",
       "$dunn2\n",
       ":   0.717865421216655\n",
       "$entropy\n",
       ":   0.559860765899622\n",
       "$wb.ratio\n",
       ":   0.359365754604353\n",
       "$ch\n",
       ":   27.6853598060106\n",
       "$cwidegap\n",
       ":   1. 4.33148496665085\n",
       "2. 6.23920442452703\n",
       "3. 8.86702902764594\n",
       "4. 3.84363335681178\n",
       "\n",
       "\n",
       "\n",
       "$widestgap\n",
       ":   8.86702902764594\n",
       "$sindex\n",
       ":   1.76980817003448\n",
       "$corrected.rand\n",
       ":   NULL\n",
       "$vi\n",
       ":   NULL\n",
       "\n",
       "\n"
      ],
      "text/plain": [
       "$n\n",
       "[1] 71\n",
       "\n",
       "$cluster.number\n",
       "[1] 4\n",
       "\n",
       "$cluster.size\n",
       "[1] 61  3  3  4\n",
       "\n",
       "$min.cluster.size\n",
       "[1] 3\n",
       "\n",
       "$noisen\n",
       "[1] 0\n",
       "\n",
       "$diameter\n",
       "[1] 8.163374 6.597310 9.313989 6.134171\n",
       "\n",
       "$average.distance\n",
       "[1] 2.503889 5.135853 7.963996 4.401589\n",
       "\n",
       "$median.distance\n",
       "[1] 1.653995 6.239204 8.867029 3.988221\n",
       "\n",
       "$separation\n",
       "[1] 1.514212 2.378675 5.046472 1.514212\n",
       "\n",
       "$average.toother\n",
       "[1]  8.043152  7.626674 11.761748  6.361295\n",
       "\n",
       "$separation.matrix\n",
       "         [,1]     [,2]      [,3]      [,4]\n",
       "[1,] 0.000000 2.378675  5.581892  1.514212\n",
       "[2,] 2.378675 0.000000  5.046472  8.481921\n",
       "[3,] 5.581892 5.046472  0.000000 12.531709\n",
       "[4,] 1.514212 8.481921 12.531709  0.000000\n",
       "\n",
       "$ave.between.matrix\n",
       "          [,1]      [,2]      [,3]      [,4]\n",
       "[1,]  0.000000  7.430732 11.757003  5.717078\n",
       "[2,]  7.430732  0.000000  7.445687 10.750527\n",
       "[3,] 11.757003  7.445687  0.000000 15.071143\n",
       "[4,]  5.717078 10.750527 15.071143  0.000000\n",
       "\n",
       "$average.between\n",
       "[1] 8.216476\n",
       "\n",
       "$average.within\n",
       "[1] 2.95272\n",
       "\n",
       "$n.between\n",
       "[1] 643\n",
       "\n",
       "$n.within\n",
       "[1] 1842\n",
       "\n",
       "$max.diameter\n",
       "[1] 9.313989\n",
       "\n",
       "$min.separation\n",
       "[1] 1.514212\n",
       "\n",
       "$within.cluster.ss\n",
       "[1] 437.5697\n",
       "\n",
       "$clus.avg.silwidths\n",
       "          1           2           3           4 \n",
       " 0.53646902  0.27625527 -0.06724113  0.17290770 \n",
       "\n",
       "$avg.silwidth\n",
       "[1] 0.4794829\n",
       "\n",
       "$g2\n",
       "NULL\n",
       "\n",
       "$g3\n",
       "NULL\n",
       "\n",
       "$pearsongamma\n",
       "[1] 0.7189015\n",
       "\n",
       "$dunn\n",
       "[1] 0.162574\n",
       "\n",
       "$dunn2\n",
       "[1] 0.7178654\n",
       "\n",
       "$entropy\n",
       "[1] 0.5598608\n",
       "\n",
       "$wb.ratio\n",
       "[1] 0.3593658\n",
       "\n",
       "$ch\n",
       "[1] 27.68536\n",
       "\n",
       "$cwidegap\n",
       "[1] 4.331485 6.239204 8.867029 3.843633\n",
       "\n",
       "$widestgap\n",
       "[1] 8.867029\n",
       "\n",
       "$sindex\n",
       "[1] 1.769808\n",
       "\n",
       "$corrected.rand\n",
       "NULL\n",
       "\n",
       "$vi\n",
       "NULL\n"
      ]
     },
     "metadata": {},
     "output_type": "display_data"
    }
   ],
   "source": [
    "# agglomerative approach\n",
    "# dissimilarity matrix\n",
    "d <- dist(df_adj_z, method = \"euclidean\")\n",
    "# complete linkage\n",
    "cluster_hierarchical <- hclust(d, method = \"complete\" )\n",
    "\n",
    "# cut tree into 4 groups\n",
    "sub_grp_2 <- cutree(cluster_hierarchical, k = 2)\n",
    "\n",
    "# cut tree into 4 groups\n",
    "sub_grp_4 <- cutree(cluster_hierarchical, k = 4)\n",
    "\n",
    "# various measures of clustering quality\n",
    "c.stat<-cluster.stats(d,sub_grp_2)\n",
    "c.stat\n",
    "\n",
    "c.stat2<-cluster.stats(d,sub_grp_4)\n",
    "c.stat2"
   ]
  }
 ],
 "metadata": {
  "kernelspec": {
   "display_name": "R",
   "language": "R",
   "name": "ir"
  },
  "language_info": {
   "codemirror_mode": "r",
   "file_extension": ".r",
   "mimetype": "text/x-r-source",
   "name": "R",
   "pygments_lexer": "r",
   "version": "3.6.1"
  }
 },
 "nbformat": 4,
 "nbformat_minor": 5
}
